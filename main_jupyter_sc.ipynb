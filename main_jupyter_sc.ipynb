{
 "cells": [
  {
   "cell_type": "markdown",
   "id": "ambient-sugar",
   "metadata": {},
   "source": [
    "# Old Wiki Scraper"
   ]
  },
  {
   "cell_type": "code",
   "execution_count": null,
   "id": "varied-intensity",
   "metadata": {},
   "outputs": [],
   "source": [
    "# extaract unique social complexity variables we are interested in\n",
    "# This should be done only once.\n",
    "import pandas as pd\n",
    "\n",
    "df = pd.read_excel('Equinox_2020_packaged_xls.xls', sheet_name=\"Equinox2020_CanonDat\")\n",
    "\n",
    "unique_sc_variables = []\n",
    "unique_sc_subsections = []\n",
    "for row in df.iterrows():\n",
    "    if row[1]['Section'] == \"Social Complexity variables\":\n",
    "        if row[1]['Variable'] not in unique_sc_variables:\n",
    "            unique_sc_variables.append(row[1]['Variable'])\n",
    "        if row[1]['Subsection'] not in unique_sc_subsections:\n",
    "            unique_sc_subsections.append(row[1]['Subsection'])\n",
    "\n",
    "print(unique_sc_variables)\n",
    "print(len(unique_sc_variables))\n",
    "print(\"____\")\n",
    "print(unique_sc_subsections)\n",
    "\n",
    "\n",
    "\n",
    "# a bettre alternative:\n",
    "# look at the following function (from main_scraper.py)\n",
    "# return_all_sc_vars()\n"
   ]
  },
  {
   "cell_type": "code",
   "execution_count": 1,
   "id": "hollow-nation",
   "metadata": {},
   "outputs": [
    {
     "name": "stderr",
     "output_type": "stream",
     "text": [
      "/usr/lib/python3/dist-packages/requests/__init__.py:89: RequestsDependencyWarning: urllib3 (1.26.7) or chardet (3.0.4) doesn't match a supported version!\n",
      "  warnings.warn(\"urllib3 ({}) or chardet ({}) doesn't match a supported \"\n"
     ]
    }
   ],
   "source": [
    "from main_scraper import *\n",
    "from z_helpers import * \n",
    "\n",
    "\n",
    "sc_var_html_extractor()"
   ]
  },
  {
   "cell_type": "code",
   "execution_count": 2,
   "id": "engaged-netherlands",
   "metadata": {
    "scrolled": false
   },
   "outputs": [
    {
     "name": "stdout",
     "output_type": "stream",
     "text": [
      "******** ra   done and saved as : ra\n",
      "WARNING: ** YeLBA** * PROBLEMATIC: unknown!!!!\n",
      "WARNING: ** YeNeoL* * PROBLEMATIC: unknown!!!!\n",
      "******** polity_territory   done and saved as : polity_territory\n",
      "WARNING: ** PeCuzE1 * PROBLEMATIC: unknown!!!!\n",
      "WARNING: ** PeCuzE2 * PROBLEMATIC: unknown!!!!\n",
      "WARNING: ** PeCuzLF * PROBLEMATIC: unknown!!!!\n",
      "WARNING: ** YeLBA** * PROBLEMATIC: unknown!!!!\n",
      "WARNING: ** YeNeoL* * PROBLEMATIC: unknown!!!!\n",
      "******** polity_population   done and saved as : polity_population\n",
      "WARNING: ** KhCambd * PROBLEMATIC: unknown!!!!\n",
      "WARNING: ** PeCuzE1 * PROBLEMATIC: unknown!!!!\n",
      "WARNING: ** PeCuzE2 * PROBLEMATIC: unknown!!!!\n",
      "WARNING: ** PeCuzL1 * PROBLEMATIC: unknown!!!!\n",
      "WARNING: ** PeCuzLF * PROBLEMATIC: unknown!!!!\n",
      "WARNING: ** YeLBA** * PROBLEMATIC: unknown!!!!\n",
      "WARNING: ** YeNeoL* * PROBLEMATIC: unknown!!!!\n",
      "******** population_of_the_largest_settlement   done and saved as : population_of_the_largest_settlement\n",
      "******** settlement_hierarchy   done and saved as : settlement_hierarchy\n",
      "WARNING: ** IlYisrl * PROBLEMATIC: unknown!!!!\n",
      "WARNING: ** LbAcPho * PROBLEMATIC: unknown!!!!\n",
      "******** administrative_levels   done and saved as : administrative_level\n",
      "******** religious_levels   done and saved as : religious_level\n",
      "WARNING: ** IlCanaa * PROBLEMATIC: unknown!!!!\n",
      "******** military_levels   done and saved as : military_level\n",
      "******** professional_military_officers   done and saved as : professional_military_officer\n",
      "******** professional_soldiers   done and saved as : professional_soldier\n",
      "******** professional_priesthood   done and saved as : professional_priesthood\n",
      "******** full-time_bureaucrats   done and saved as : full_time_bureaucrat\n",
      "******** examination_system   done and saved as : examination_system\n",
      "******** merit_promotion   done and saved as : merit_promotion\n",
      "******** specialized_government_buildings   done and saved as : specialized_government_building\n",
      "******** formal_legal_code   done and saved as : formal_legal_code\n",
      "******** judges   done and saved as : judge\n",
      "******** courts   done and saved as : court\n",
      "******** professional_lawyers   done and saved as : professional_lawyer\n",
      "******** irrigation_systems   done and saved as : irrigation_system\n",
      "******** drinking_water_supply_systems   done and saved as : drinking_water_supply_system\n",
      "******** markets   done and saved as : market\n",
      "******** food_storage_sites   done and saved as : food_storage_site\n",
      "******** roads   done and saved as : road\n",
      "******** bridges   done and saved as : bridge\n",
      "******** canals   done and saved as : canal\n",
      "******** ports   done and saved as : port\n",
      "******** mines_or_quarries   done and saved as : mines_or_quarrie\n",
      "******** mnemonic_devices   done and saved as : mnemonic_device\n",
      "******** nonwritten_records   done and saved as : nonwritten_record\n",
      "******** written_records   done and saved as : written_record\n",
      "******** script   done and saved as : script\n",
      "******** non-phonetic_writing   done and saved as : non_phonetic_writing\n",
      "******** phonetic_alphabetic_writing   done and saved as : phonetic_alphabetic_writing\n",
      "******** lists,_tables,_and_classifications   done and saved as : lists_tables_and_classification\n",
      "******** calendar   done and saved as : calendar\n",
      "******** sacred_texts   done and saved as : sacred_text\n",
      "******** religious_literature   done and saved as : religious_literature\n",
      "******** practical_literature   done and saved as : practical_literature\n",
      "******** history   done and saved as : history\n",
      "******** philosophy   done and saved as : philosophy\n",
      "******** scientific_literature   done and saved as : scientific_literature\n",
      "******** fiction   done and saved as : fiction\n",
      "******** articles   done and saved as : article\n",
      "******** tokens   done and saved as : token\n",
      "******** precious_metals   done and saved as : precious_metal\n",
      "******** foreign_coins   done and saved as : foreign_coin\n",
      "******** indigenous_coins   done and saved as : indigenous_coin\n",
      "******** paper_currency   done and saved as : paper_currency\n",
      "******** couriers   done and saved as : courier\n",
      "******** postal_stations   done and saved as : postal_station\n",
      "******** general_postal_service   done and saved as : general_postal_service\n",
      "***** ra   done ---> : ra\n",
      "***** polity_territory   done ---> : polity_territory\n",
      "***** polity_population   done ---> : polity_population\n",
      "***** population_of_the_largest_settlement   done ---> : population_of_the_largest_settlement\n",
      "***** settlement_hierarchy   done ---> : settlement_hierarchy\n",
      "***** administrative_levels   done ---> : administrative_level\n",
      "***** religious_levels   done ---> : religious_level\n",
      "***** military_levels   done ---> : military_level\n",
      "***** professional_military_officers   done ---> : professional_military_officer\n",
      "***** professional_soldiers   done ---> : professional_soldier\n",
      "***** professional_priesthood   done ---> : professional_priesthood\n",
      "***** full-time_bureaucrats   done ---> : full_time_bureaucrat\n",
      "***** examination_system   done ---> : examination_system\n",
      "***** merit_promotion   done ---> : merit_promotion\n",
      "***** specialized_government_buildings   done ---> : specialized_government_building\n",
      "***** formal_legal_code   done ---> : formal_legal_code\n",
      "***** judges   done ---> : judge\n",
      "***** courts   done ---> : court\n",
      "***** professional_lawyers   done ---> : professional_lawyer\n",
      "***** irrigation_systems   done ---> : irrigation_system\n",
      "***** drinking_water_supply_systems   done ---> : drinking_water_supply_system\n",
      "***** markets   done ---> : market\n",
      "***** food_storage_sites   done ---> : food_storage_site\n",
      "***** roads   done ---> : road\n",
      "***** bridges   done ---> : bridge\n",
      "***** canals   done ---> : canal\n",
      "***** ports   done ---> : port\n",
      "***** mines_or_quarries   done ---> : mines_or_quarry\n",
      "***** mnemonic_devices   done ---> : mnemonic_device\n",
      "***** nonwritten_records   done ---> : nonwritten_record\n",
      "***** written_records   done ---> : written_record\n",
      "***** script   done ---> : script\n",
      "***** non-phonetic_writing   done ---> : non_phonetic_writing\n",
      "***** phonetic_alphabetic_writing   done ---> : phonetic_alphabetic_writing\n",
      "***** lists,_tables,_and_classifications   done ---> : lists_tables_and_classification\n",
      "***** calendar   done ---> : calendar\n",
      "***** sacred_texts   done ---> : sacred_text\n",
      "***** religious_literature   done ---> : religious_literature\n",
      "***** practical_literature   done ---> : practical_literature\n",
      "***** history   done ---> : history\n",
      "***** philosophy   done ---> : philosophy\n",
      "***** scientific_literature   done ---> : scientific_literature\n",
      "***** fiction   done ---> : fiction\n",
      "***** articles   done ---> : article\n",
      "***** tokens   done ---> : token\n",
      "***** precious_metals   done ---> : precious_metal\n",
      "***** foreign_coins   done ---> : foreign_coin\n",
      "***** indigenous_coins   done ---> : indigenous_coin\n",
      "***** paper_currency   done ---> : paper_currency\n",
      "***** couriers   done ---> : courier\n",
      "***** postal_stations   done ---> : postal_station\n",
      "***** general_postal_service   done ---> : general_postal_service\n",
      "{'ra': 'NO_DESCRIPTIONS_IN_CODEBOOK', 'polity_territory': 'NO_DESCRIPTIONS_IN_CODEBOOK', 'polity_population': 'NO_DESCRIPTIONS_IN_CODEBOOK', 'population_of_the_largest_settlement': 'NO_DESCRIPTIONS_IN_CODEBOOK', 'settlement_hierarchy': 'NO_DESCRIPTIONS_IN_CODEBOOK', 'administrative_level': 'NO_DESCRIPTIONS_IN_CODEBOOK', 'religious_level': 'NO_DESCRIPTIONS_IN_CODEBOOK', 'military_level': 'NO_DESCRIPTIONS_IN_CODEBOOK', 'professional_military_officer': 'NO_DESCRIPTIONS_IN_CODEBOOK', 'professional_soldier': 'NO_DESCRIPTIONS_IN_CODEBOOK', 'professional_priesthood': 'NO_DESCRIPTIONS_IN_CODEBOOK', 'full_time_bureaucrat': 'NO_DESCRIPTIONS_IN_CODEBOOK', 'examination_system': 'NO_DESCRIPTIONS_IN_CODEBOOK', 'merit_promotion': 'NO_DESCRIPTIONS_IN_CODEBOOK', 'specialized_government_building': 'NO_DESCRIPTIONS_IN_CODEBOOK', 'formal_legal_code': 'NO_DESCRIPTIONS_IN_CODEBOOK', 'judge': 'NO_DESCRIPTIONS_IN_CODEBOOK', 'court': 'NO_DESCRIPTIONS_IN_CODEBOOK', 'professional_lawyer': 'NO_DESCRIPTIONS_IN_CODEBOOK', 'irrigation_system': 'NO_DESCRIPTIONS_IN_CODEBOOK', 'drinking_water_supply_system': 'NO_DESCRIPTIONS_IN_CODEBOOK', 'market': 'NO_DESCRIPTIONS_IN_CODEBOOK', 'food_storage_site': 'NO_DESCRIPTIONS_IN_CODEBOOK', 'road': 'NO_DESCRIPTIONS_IN_CODEBOOK', 'bridge': 'NO_DESCRIPTIONS_IN_CODEBOOK', 'canal': 'NO_DESCRIPTIONS_IN_CODEBOOK', 'port': 'NO_DESCRIPTIONS_IN_CODEBOOK', 'mines_or_quarry': 'NO_DESCRIPTIONS_IN_CODEBOOK', 'mnemonic_device': 'NO_DESCRIPTIONS_IN_CODEBOOK', 'nonwritten_record': 'NO_DESCRIPTIONS_IN_CODEBOOK', 'written_record': 'NO_DESCRIPTIONS_IN_CODEBOOK', 'script': 'NO_DESCRIPTIONS_IN_CODEBOOK', 'non_phonetic_writing': 'NO_DESCRIPTIONS_IN_CODEBOOK', 'phonetic_alphabetic_writing': 'NO_DESCRIPTIONS_IN_CODEBOOK', 'lists_tables_and_classification': 'NO_DESCRIPTIONS_IN_CODEBOOK', 'calendar': 'NO_DESCRIPTIONS_IN_CODEBOOK', 'sacred_text': 'NO_DESCRIPTIONS_IN_CODEBOOK', 'religious_literature': 'NO_DESCRIPTIONS_IN_CODEBOOK', 'practical_literature': 'NO_DESCRIPTIONS_IN_CODEBOOK', 'history': 'NO_DESCRIPTIONS_IN_CODEBOOK', 'philosophy': 'NO_DESCRIPTIONS_IN_CODEBOOK', 'scientific_literature': 'NO_DESCRIPTIONS_IN_CODEBOOK', 'fiction': 'NO_DESCRIPTIONS_IN_CODEBOOK', 'article': 'NO_DESCRIPTIONS_IN_CODEBOOK', 'token': 'NO_DESCRIPTIONS_IN_CODEBOOK', 'precious_metal': 'NO_DESCRIPTIONS_IN_CODEBOOK', 'foreign_coin': 'NO_DESCRIPTIONS_IN_CODEBOOK', 'indigenous_coin': 'NO_DESCRIPTIONS_IN_CODEBOOK', 'paper_currency': 'NO_DESCRIPTIONS_IN_CODEBOOK', 'courier': 'NO_DESCRIPTIONS_IN_CODEBOOK', 'postal_station': 'NO_DESCRIPTIONS_IN_CODEBOOK', 'general_postal_service': 'NO_DESCRIPTIONS_IN_CODEBOOK'}\n"
     ]
    }
   ],
   "source": [
    "ultimate_dic = sc_variables_extractor()\n",
    "pretty_ultimate_dic = all_sc_vars_augmenter(ultimate_dic)\n",
    "pretty_ultimate_dic_with_conf_disp = add_confidence_disputed_to_augmentd_sc(pretty_ultimate_dic)"
   ]
  },
  {
   "cell_type": "code",
   "execution_count": null,
   "id": "complete-history",
   "metadata": {},
   "outputs": [],
   "source": [
    "# from main_scraper import *\n",
    "# from z_helpers import * \n",
    "# pretty_ultimate_dic_with_conf_disp = {\"a\": \"b\"}"
   ]
  },
  {
   "cell_type": "code",
   "execution_count": 4,
   "id": "falling-quantum",
   "metadata": {},
   "outputs": [
    {
     "name": "stdout",
     "output_type": "stream",
     "text": [
      "288 sql insertion rows added to: /home/majid/dev/old_wiki_scraper_for_social_complexity/SC_SQL_AWS/aaaaall_all_all.sql\n"
     ]
    }
   ],
   "source": [
    "get_it_done_sql(pretty_ultimate_dic_with_conf_disp, False)"
   ]
  },
  {
   "cell_type": "code",
   "execution_count": null,
   "id": "endless-monte",
   "metadata": {},
   "outputs": [],
   "source": []
  },
  {
   "cell_type": "code",
   "execution_count": null,
   "id": "involved-desert",
   "metadata": {},
   "outputs": [],
   "source": []
  },
  {
   "cell_type": "code",
   "execution_count": null,
   "id": "restricted-payroll",
   "metadata": {
    "scrolled": true
   },
   "outputs": [],
   "source": [
    "pretty_ultimate_dic_with_conf_disp[\"administrative_level\"]"
   ]
  },
  {
   "cell_type": "code",
   "execution_count": null,
   "id": "prerequisite-shirt",
   "metadata": {},
   "outputs": [],
   "source": []
  },
  {
   "cell_type": "code",
   "execution_count": null,
   "id": "found-eugene",
   "metadata": {},
   "outputs": [],
   "source": [
    "df = pretty_ultimate_dic_with_conf_disp[\"population_of_the_largest_settlement\"]\n",
    "cond = df[\"raw\"].str.contains(\"{\")\n",
    "filtered_df = df[cond]"
   ]
  },
  {
   "cell_type": "code",
   "execution_count": null,
   "id": "applied-excuse",
   "metadata": {},
   "outputs": [],
   "source": [
    "def describe_set_of_values_after_pretty(my_ultimate_dic):\n",
    "    \"\"\"\n",
    "    for the after_pretty case\n",
    "    \"\"\"\n",
    "    for key_variable, df_full in my_ultimate_dic.items():\n",
    "        print(f\"*********{key_variable}\")\n",
    "        for inner_var in list(df_full.columns):\n",
    "            if \"XYZ_\" in inner_var:\n",
    "                unique_values = len(df_full[inner_var].unique())\n",
    "                if unique_values <=50:\n",
    "                    for value in df_full[inner_var]:\n",
    "                        if value not in [\"present\", \"absent\", \"UNKNOWN\", \"0\", \"1\", \"2\", \"3\",\"4\", \"5\", \"6\", \"7\",\"8\", \"9\", \"10\", \"11\", \"12\", \"13\"]:\n",
    "                            print(f\"*{value}*\")\n",
    "                    print()\n",
    "                print(\"_________________\")\n"
   ]
  },
  {
   "cell_type": "code",
   "execution_count": null,
   "id": "junior-questionnaire",
   "metadata": {},
   "outputs": [],
   "source": []
  },
  {
   "cell_type": "code",
   "execution_count": null,
   "id": "bigger-checklist",
   "metadata": {},
   "outputs": [],
   "source": [
    "\n",
    "def convert_general_vars_dic_to_two_dfs(my_pretty_dic):\n",
    "    # let's create the mother meta_dfs we need for taking care of the data read from almost anywhere \n",
    "    from sc_definitions import SC_VAR_DEFINITIONS, SC_VAR_SUBSECTIONS\n",
    "    # meta_cols_in_variables = [\n",
    "    #     \"colname\", \"dtype\", \"varname\", \"units\", \"min\", \"max\", \"scale\", \n",
    "    #     \"decimal_places\", \"max_digits\", \"choices\", \"foreign_key\", \"foreign_key_related_name\", \"null_meaning\", \n",
    "    # ]\n",
    "\n",
    "    # meta_variables = [\n",
    "    #     \"varname\", \"db_name\", \"main_desc\", \"main_desc_source\", \"notes\", \"cols\", \"section\", \"subsection\", \"needsSeshatCommon\",\n",
    "    # ]\n",
    "\n",
    "    my_vars_dic = {}\n",
    "\n",
    "    for variable, inner_data in my_pretty_dic.items():\n",
    "        variable_spaced = variable.replace(\"_\", \" \")\n",
    "        if variable in [\"ra\"]:\n",
    "            my_cols = 1\n",
    "            inner_dic = {\n",
    "            'col1': {'colname': 'sc_ra',\n",
    "                'dtype': ['ForeignKey', 'Select'],\n",
    "                'varname': 'sc_research_assistant',\n",
    "                'col_exp': 'The RA of Social Complexity Variables',\n",
    "                'foreign_key': 'Seshat_Expert',\n",
    "                'foreign_key_related_name': 'sc_research_assistant'}\n",
    "            }\n",
    "        elif variable in [\"polity_territory\", ]:\n",
    "            my_cols = 2\n",
    "            inner_dic = {\n",
    "            'col1': {\n",
    "                'colname': variable + \"_from\",\n",
    "                'dtype': ['IntegerField', 'NumberInput'],\n",
    "                'varname': variable,\n",
    "                'col_exp': f'The lower range of {variable_spaced} for a polity.',\n",
    "                'max_digits': 20,\n",
    "                'units': 'km squared',},\n",
    "            'col2': {\n",
    "                'colname': variable + \"_to\",\n",
    "                'dtype': ['IntegerField', 'NumberInput'],\n",
    "                'varname': variable,\n",
    "                'col_exp': f'The lower range of {variable_spaced} for a polity.',\n",
    "                'max_digits': 20,\n",
    "                'units': 'km squared',\n",
    "                }\n",
    "            }\n",
    "        elif variable in [\"polity_population\", \"population_of_the_largest_settlement\", ]:\n",
    "            my_cols = 2\n",
    "            inner_dic = {\n",
    "            'col1': {\n",
    "                'colname': variable + \"_from\",\n",
    "                'dtype': ['IntegerField', 'NumberInput'],\n",
    "                'varname': variable,\n",
    "                'col_exp': f'The lower range of {variable_spaced} for a polity.',\n",
    "                'max_digits': 20},\n",
    "            'col2': {\n",
    "                'colname': variable + \"_to\",\n",
    "                'dtype': ['IntegerField', 'NumberInput'],\n",
    "                'varname': variable,\n",
    "                'col_exp': f'The lower range of {variable_spaced} for a polity.',\n",
    "                'max_digits': 20,\n",
    "                }\n",
    "            }\n",
    "        elif variable in [\"administrative_level\", \"settlement_hierarchy\", \"religious_level\", \"military_level\", ]:\n",
    "            my_cols = 2\n",
    "            inner_dic = {\n",
    "            'col1': {\n",
    "                'colname': variable + \"_from\",\n",
    "                'dtype': ['IntegerField', 'NumberInput'],\n",
    "                'varname': variable,\n",
    "                'col_exp': f'The lower range of {variable_spaced} for a polity.',\n",
    "                'max_digits': 2,\n",
    "                'min': 0\n",
    "                },\n",
    "            'col2': {\n",
    "                'colname': variable + \"_to\",\n",
    "                'dtype': ['IntegerField', 'NumberInput'],\n",
    "                'varname': variable,\n",
    "                'col_exp': f'The lower range of {variable_spaced} for a polity.',\n",
    "                'max_digits': 2,\n",
    "                'min': 0\n",
    "                }\n",
    "            }     \n",
    "        else:\n",
    "            my_cols = 1\n",
    "            inner_dic = {\n",
    "            'col1': {\n",
    "                'colname': variable,\n",
    "                'dtype': ['CharField', 'Select'],\n",
    "                'varname': variable,\n",
    "                'col_exp': f'The absence or presence of {variable_spaced} for a polity.',\n",
    "                'choices': \"ABSENT_PRESENT_CHOICES\",\n",
    "                }\n",
    "            }  \n",
    "        # dic to be appended\n",
    "        my_var_dic = {\n",
    "            \"varname\": variable,\n",
    "            \"db_name\": \"sc\",\n",
    "            \"needsSeshatCommon\": True,\n",
    "            \"main_desc\": SC_VAR_DEFINITIONS[variable],\n",
    "            \"main_desc_source\": \"NOTHING\",\n",
    "            \"notes\": \"No_Actual_note\",\n",
    "            \"cols\": my_cols,\n",
    "            \"section\": \"Social Complexity\",\n",
    "            \"subsection\": SC_VAR_SUBSECTIONS[variable],\n",
    "        }\n",
    "\n",
    "        my_var_dic.update(inner_dic)\n",
    "        my_vars_dic[variable] = my_var_dic\n",
    "\n",
    "    return my_vars_dic"
   ]
  },
  {
   "cell_type": "code",
   "execution_count": null,
   "id": "confirmed-timothy",
   "metadata": {},
   "outputs": [],
   "source": [
    "convert_general_vars_dic_to_two_dfs(pretty_ultimate_dic_with_conf_disp)"
   ]
  },
  {
   "cell_type": "code",
   "execution_count": null,
   "id": "critical-account",
   "metadata": {},
   "outputs": [],
   "source": [
    "my_tuple_choices = []\n",
    "str_mid_list = []\n",
    "\n",
    "for item in [\"present\", \"absent\", \"unknown\"]:\n",
    "    str_mid_list.append(f\"('{item}', '{item}'),\\n\")\n",
    "    str_mid = \"\".join(str_mid_list)\n",
    "full_string = str_mid \n",
    "my_tuple_choices.append(full_string)  "
   ]
  },
  {
   "cell_type": "code",
   "execution_count": null,
   "id": "classified-indian",
   "metadata": {},
   "outputs": [],
   "source": [
    "print(my_tuple_choices)"
   ]
  },
  {
   "cell_type": "code",
   "execution_count": null,
   "id": "organizational-program",
   "metadata": {},
   "outputs": [],
   "source": [
    "pretty_ultimate_dic_with_conf_disp"
   ]
  },
  {
   "cell_type": "code",
   "execution_count": null,
   "id": "lined-miller",
   "metadata": {},
   "outputs": [],
   "source": [
    "my_tuple = pretty_ultimate_dic_with_conf_disp[\"polity_population\"][\"raw\"]\n",
    "cond = my_tuple.str.contains(\"{\")\n",
    "pretty_ultimate_dic_with_conf_disp[cond]"
   ]
  },
  {
   "cell_type": "code",
   "execution_count": null,
   "id": "flexible-broadcasting",
   "metadata": {},
   "outputs": [],
   "source": [
    "pretty_ultimate_dic[\"paper_currency\"][\"values_df\"]"
   ]
  },
  {
   "cell_type": "code",
   "execution_count": null,
   "id": "happy-aircraft",
   "metadata": {},
   "outputs": [],
   "source": [
    "df = pretty_ultimate_dic[\"polity_population\"][\"values_df\"]\n",
    "\n",
    "# df_column_contains_suspected = df[\"raw\"].str.contains(\"suspected\") \n",
    "df_column_contains_suspected = df[\"raw\"].str.contains(\"suspected\") \n",
    "import numpy as np\n",
    "\n",
    "new_df = df[df_column_contains_suspected]\n",
    "df['confidence'] = np.where(df['raw'].isin(['suspected unknown']), 'SSP', 'TRS')"
   ]
  },
  {
   "cell_type": "code",
   "execution_count": null,
   "id": "abstract-element",
   "metadata": {},
   "outputs": [],
   "source": [
    "import numpy as np\n",
    "df = pd.DataFrame({'raw': ['valid', \"another one\", 'suspected unknown', 'inferred absent']})\n",
    "df['confidence'] = np.where(df['raw'].isin(['suspected unknown']), 'SSP', 'TRS')\n",
    "\n",
    "df['raw'] = df['raw'].str.replace(\"inferred\", \"\")"
   ]
  },
  {
   "cell_type": "code",
   "execution_count": null,
   "id": "buried-width",
   "metadata": {},
   "outputs": [],
   "source": [
    "df"
   ]
  },
  {
   "cell_type": "code",
   "execution_count": null,
   "id": "specified-plate",
   "metadata": {},
   "outputs": [],
   "source": []
  },
  {
   "cell_type": "code",
   "execution_count": null,
   "id": "imperial-official",
   "metadata": {},
   "outputs": [],
   "source": [
    "pretty_ultimate_dic[\"polity_population\"][\"values_df\"][100:140]"
   ]
  },
  {
   "cell_type": "code",
   "execution_count": null,
   "id": "alike-learning",
   "metadata": {},
   "outputs": [],
   "source": [
    "df = pretty_ultimate_dic[\"mnemonic_devices\"][\"values_df\"]\n",
    "\n",
    "assert(df['polity'].str.contains('^[a-zA-Z_]+$')).all(), \"Error: Polity column contains values that are not solely composed of alphabetical characters and/or underscores.\""
   ]
  },
  {
   "cell_type": "code",
   "execution_count": null,
   "id": "limited-giant",
   "metadata": {},
   "outputs": [],
   "source": [
    "MlMali*\t"
   ]
  },
  {
   "cell_type": "code",
   "execution_count": null,
   "id": "indie-fighter",
   "metadata": {},
   "outputs": [],
   "source": [
    "pretty_ultimate_dic[\"mnemonic_devices\"][\"values_df\"][100:140] "
   ]
  },
  {
   "cell_type": "code",
   "execution_count": null,
   "id": "worse-community",
   "metadata": {},
   "outputs": [],
   "source": []
  },
  {
   "cell_type": "code",
   "execution_count": null,
   "id": "destroyed-cream",
   "metadata": {},
   "outputs": [],
   "source": [
    "describe_set_of_value_dfs(pretty_ultimate_dic)"
   ]
  },
  {
   "cell_type": "code",
   "execution_count": null,
   "id": "defensive-aquarium",
   "metadata": {},
   "outputs": [],
   "source": [
    "def range_finder_plus_plus_non_numeric(input_str, a_str):\n",
    "    \"\"\"\n",
    "    This will catch:\n",
    "    \n",
    "    - absent: 54-56 BCE\n",
    "    - disputed_present_absent\n",
    "    - uncertain_absent_present: 546 CE\n",
    "    \"\"\"\n",
    "    stripped_str = input_str.replace(\",\", \"\").strip()\n",
    "    #my_catches = re.findall(r'(\\w+)\\s*:{0,1}\\s*(.*)', stripped_str)\n",
    "    my_catches = re.findall(r'(present|suspected unknown|NO_VALUE_ON_WIKI|inferred present|absent|inferred absent|unknown|uncertain_present_absent|disputed_present_absent|uncertain_absent_present|disputed_absent_present|disputed_inferred_absent_and_present|disputed_inferred_absent_and_inferred_present|uncertain_absent_and_inferred_present)\\s*:{0,1}\\s*(.*)', stripped_str)\n",
    "    if len(my_catches) == 1:\n",
    "        years_potential = my_catches[0][1]\n",
    "        extracted_years = is_there_years_here(years_potential)\n",
    "        range_low = my_catches[0][0]\n",
    "        if extracted_years != [None, None] and range_low:\n",
    "            return [range_low, extracted_years[0], extracted_years[1]]\n",
    "        elif range_low:\n",
    "            return [range_low, None, None]\n",
    "    else:\n",
    "        return [None, None, None]\n",
    "    \n",
    "#range_finder_plus_plus_non_numeric(\"present: 800-1019 CE\", \":\")\n",
    "#range_finder_plus_plus_non_numeric(\"disputed_present_absent\", \":\")\n",
    "range_finder_plus_plus_non_numeric(\"uncertain_absent_present: 700-732 CE\", \":\")\n"
   ]
  },
  {
   "cell_type": "code",
   "execution_count": null,
   "id": "developing-rehabilitation",
   "metadata": {
    "scrolled": false
   },
   "outputs": [],
   "source": [
    "a_mapping = get_all_users_experts(pretty_ultimate_dic, 100)"
   ]
  },
  {
   "cell_type": "code",
   "execution_count": null,
   "id": "dietary-sharp",
   "metadata": {},
   "outputs": [],
   "source": [
    "a_new_dic = {}\n",
    "for key in a_mapping.keys():\n",
    "    a_new_dic[key] = key"
   ]
  },
  {
   "cell_type": "code",
   "execution_count": null,
   "id": "manual-logistics",
   "metadata": {},
   "outputs": [],
   "source": [
    "#pretty_ultimate_dic[\"scale_of_supra-cultural_interaction\"][\"values_df\"]\n",
    "for index, row in ultimate_dic[\"indigenous_coins\"][\"values_df\"].iterrows():\n",
    "    if \"[absent\" in row.wiki_value:\n",
    "        print(str(row.polity), \"---->\", row.wiki_value) "
   ]
  },
  {
   "cell_type": "code",
   "execution_count": null,
   "id": "conditional-computer",
   "metadata": {},
   "outputs": [],
   "source": [
    "pretty_ultimate_dic[\"scale_of_supra-cultural_interaction\"][\"values_df\"]"
   ]
  },
  {
   "cell_type": "code",
   "execution_count": null,
   "id": "critical-cinema",
   "metadata": {},
   "outputs": [],
   "source": [
    "wide_df = pretty_ultimate_dic[\"scale_of_supra-cultural_interaction\"][\"values_df\"]\n",
    "wide_df.loc[wide_df.polity == 'IsCommw']"
   ]
  },
  {
   "cell_type": "code",
   "execution_count": null,
   "id": "entertaining-cemetery",
   "metadata": {},
   "outputs": [],
   "source": [
    "stripped_str = \"[9,000,000]: 98-43\"\n",
    "stripped_str = stripped_str.replace(\",\", \"\")\n",
    "a_str = \";\"\n",
    "my_catches = re.findall(fr'[\\[]{{0,1}}[ ]{{0,1}}(\\d{{1,15}})[ ]{{0,1}}[-|_| ]{{0,1}}[ ]{{0,1}}([\\d{{1,15}}]{{0,1}})[ ]{{0,1}}[\\]]{{0,1}}[ ]{{0,1}}[{a_str}]{{0,1}}(.*)', stripped_str)"
   ]
  },
  {
   "cell_type": "code",
   "execution_count": null,
   "id": "tight-transaction",
   "metadata": {},
   "outputs": [],
   "source": [
    "my_catches"
   ]
  },
  {
   "cell_type": "code",
   "execution_count": null,
   "id": "insured-refrigerator",
   "metadata": {},
   "outputs": [],
   "source": []
  },
  {
   "cell_type": "code",
   "execution_count": null,
   "id": "laden-failure",
   "metadata": {},
   "outputs": [],
   "source": [
    "for index, row in ultimate_dic[\"ra\"][\"values_df\"].iterrows():\n",
    "    if \"AP\" in row[2]:\n",
    "        print(str(row.polity), \"---->\", row[2]) "
   ]
  },
  {
   "cell_type": "code",
   "execution_count": null,
   "id": "biological-secretariat",
   "metadata": {},
   "outputs": [],
   "source": [
    "from IPython.display import display, HTML\n",
    "display(HTML(\"<style>.container { width:80% !important; }</style>\"))\n",
    "display(HTML(\"<style>.output_result { max-width:90% !important; }</style>\"))\n",
    "display(HTML(\"<style>.prompt { display:none !important; }</style>\"))\n",
    "pd.set_option('display.expand_frame_repr', True)\n",
    "pd.options.display.max_colwidth = 500"
   ]
  },
  {
   "cell_type": "code",
   "execution_count": null,
   "id": "enormous-cyprus",
   "metadata": {},
   "outputs": [],
   "source": [
    "ultimate_dic.keys()"
   ]
  },
  {
   "cell_type": "code",
   "execution_count": null,
   "id": "urban-protection",
   "metadata": {},
   "outputs": [],
   "source": [
    "expanded_df = ultimate_dic[\"language_genus\"][\"values_df\"]"
   ]
  },
  {
   "cell_type": "code",
   "execution_count": null,
   "id": "horizontal-nigeria",
   "metadata": {},
   "outputs": [],
   "source": [
    "expanded_df.wiki_value.unique()"
   ]
  },
  {
   "cell_type": "code",
   "execution_count": null,
   "id": "built-session",
   "metadata": {},
   "outputs": [],
   "source": [
    "print(expanded_df.columns())"
   ]
  },
  {
   "cell_type": "code",
   "execution_count": null,
   "id": "ongoing-hundred",
   "metadata": {},
   "outputs": [],
   "source": [
    "a = {'a': 123, 'b': 897}\n",
    "print(f\"Halolo there: {a}\")"
   ]
  },
  {
   "cell_type": "code",
   "execution_count": null,
   "id": "sticky-category",
   "metadata": {},
   "outputs": [],
   "source": [
    "expanded_df.loc[expanded_df.wiki_year_from > 1].head(30)"
   ]
  },
  {
   "cell_type": "code",
   "execution_count": null,
   "id": "linear-melbourne",
   "metadata": {},
   "outputs": [],
   "source": [
    "expanded_df.loc[expanded_df.wiki_clean != '']"
   ]
  },
  {
   "cell_type": "code",
   "execution_count": null,
   "id": "weighted-bottle",
   "metadata": {},
   "outputs": [],
   "source": [
    "pretty_ultimate_dic[\"language_genus\"][\"values_df\"][\"wiki_clean\"].unique()"
   ]
  },
  {
   "cell_type": "markdown",
   "id": "tracked-explanation",
   "metadata": {},
   "source": [
    "<hr>"
   ]
  },
  {
   "cell_type": "code",
   "execution_count": null,
   "id": "hairy-burden",
   "metadata": {},
   "outputs": [],
   "source": [
    "thin_dic, new_json_file = general_vars_sql_maker(ultimate_dic, \"Majid\", \"/z_control_file.json\", False)"
   ]
  },
  {
   "cell_type": "code",
   "execution_count": null,
   "id": "casual-third",
   "metadata": {},
   "outputs": [],
   "source": [
    "thin_dic"
   ]
  },
  {
   "cell_type": "code",
   "execution_count": null,
   "id": "square-basement",
   "metadata": {},
   "outputs": [],
   "source": [
    "import os\n",
    "print(os.getcwd())"
   ]
  },
  {
   "cell_type": "code",
   "execution_count": null,
   "id": "alternative-ceramic",
   "metadata": {},
   "outputs": [],
   "source": [
    "int(None)"
   ]
  },
  {
   "cell_type": "code",
   "execution_count": null,
   "id": "threatened-oliver",
   "metadata": {},
   "outputs": [],
   "source": [
    "from datetime import datetime"
   ]
  },
  {
   "cell_type": "code",
   "execution_count": null,
   "id": "painful-singapore",
   "metadata": {},
   "outputs": [],
   "source": [
    "a = datetime.today().date()"
   ]
  },
  {
   "cell_type": "code",
   "execution_count": null,
   "id": "current-engine",
   "metadata": {},
   "outputs": [],
   "source": [
    "a"
   ]
  },
  {
   "cell_type": "code",
   "execution_count": null,
   "id": "specified-worthy",
   "metadata": {},
   "outputs": [],
   "source": [
    "describe_set_of_value_dfs(ultimate_dic)"
   ]
  },
  {
   "cell_type": "code",
   "execution_count": null,
   "id": "comfortable-albany",
   "metadata": {},
   "outputs": [],
   "source": [
    "wide_df = ultimate_dic[\"scale_of_supra-cultural_interaction\"][\"values_df\"]\n",
    "long_df = value_semi_colon_expander(wide_df)\n",
    "#wide_df_alter = ultimate_dic[\"language_genus\"][\"values_df\"]\n",
    "\n",
    "#merged_long_dfs = []\n",
    "long_df_vs = value_semi_colon_splitter_plus(wide_df)\n",
    "#alternate_long_df_vs = value_semi_colon_splitter_plus(wide_df_alter)\n",
    "#merged_long_dfs = list(set(long_df_vs + alternate_long_df_vs))"
   ]
  },
  {
   "cell_type": "code",
   "execution_count": null,
   "id": "julian-bermuda",
   "metadata": {},
   "outputs": [],
   "source": [
    "long_df[0].tail(20)"
   ]
  },
  {
   "cell_type": "code",
   "execution_count": null,
   "id": "removed-aquatic",
   "metadata": {},
   "outputs": [],
   "source": [
    "long_df_vs"
   ]
  },
  {
   "cell_type": "code",
   "execution_count": null,
   "id": "constitutional-motivation",
   "metadata": {},
   "outputs": [],
   "source": [
    "for my_str in long_df_vs:\n",
    "    is_there_years_here(my_str)"
   ]
  },
  {
   "cell_type": "code",
   "execution_count": null,
   "id": "hazardous-nelson",
   "metadata": {},
   "outputs": [],
   "source": [
    "wide_df.head(10)"
   ]
  },
  {
   "cell_type": "code",
   "execution_count": null,
   "id": "provincial-burton",
   "metadata": {},
   "outputs": [],
   "source": [
    "for item in merged_long_dfs:\n",
    "    print(f\"'{item}'\", end=\", \")"
   ]
  },
  {
   "cell_type": "code",
   "execution_count": null,
   "id": "breeding-branch",
   "metadata": {},
   "outputs": [],
   "source": [
    "for item in alternate_long_df_vs:\n",
    "    print(f\"'{item}'\", end=\", \")"
   ]
  },
  {
   "cell_type": "code",
   "execution_count": null,
   "id": "detailed-clothing",
   "metadata": {},
   "outputs": [],
   "source": [
    "for item in long_df_vs:\n",
    "    print(f\"'{item}'\", end=\", \")"
   ]
  },
  {
   "cell_type": "code",
   "execution_count": null,
   "id": "reported-african",
   "metadata": {},
   "outputs": [],
   "source": []
  },
  {
   "cell_type": "code",
   "execution_count": null,
   "id": "technical-irrigation",
   "metadata": {},
   "outputs": [],
   "source": [
    "long_df_vs"
   ]
  },
  {
   "cell_type": "code",
   "execution_count": null,
   "id": "above-neighborhood",
   "metadata": {},
   "outputs": [],
   "source": [
    "for row, item in expanded_df.iterrows():\n",
    "    if ';' in item[2]:\n",
    "        print(item[2])"
   ]
  },
  {
   "cell_type": "code",
   "execution_count": null,
   "id": "commercial-pursuit",
   "metadata": {},
   "outputs": [],
   "source": [
    "wide_df.loc[wide_df.wiki_value == '8th century BCE']"
   ]
  },
  {
   "cell_type": "code",
   "execution_count": null,
   "id": "potential-council",
   "metadata": {},
   "outputs": [],
   "source": [
    "unique_religions = []\n",
    "for row, values in ultimate_dic[\"alternate_religion_genus\"][\"values_df\"].iterrows():\n",
    "    print(len(values))\n",
    "    if len(values[2].split(';')) > 1:\n",
    "        for item in values[2].split(';'):\n",
    "            if \":\" in item.strip():\n",
    "                double_stripped = item.split(\":\")[0].strip()\n",
    "            else:\n",
    "                double_stripped = item.strip()\n",
    "            if double_stripped not in unique_religions:\n",
    "                unique_religions.append(double_stripped)\n",
    "    else:\n",
    "        if values[2].strip() not in unique_religions:\n",
    "            if \":\" in values[2].strip():\n",
    "                double_stripped = values[2].strip().split(\":\")[0]\n",
    "            else:\n",
    "                double_stripped = values[2].strip().strip()\n",
    "            if double_stripped not in unique_religions:\n",
    "                unique_religions.append(double_stripped.strip())\n"
   ]
  },
  {
   "cell_type": "code",
   "execution_count": null,
   "id": "imposed-roots",
   "metadata": {},
   "outputs": [],
   "source": [
    "unique_religions"
   ]
  },
  {
   "cell_type": "code",
   "execution_count": null,
   "id": "bacterial-essence",
   "metadata": {},
   "outputs": [],
   "source": [
    "gen_var_html_extractor()"
   ]
  },
  {
   "cell_type": "code",
   "execution_count": null,
   "id": "alike-natural",
   "metadata": {},
   "outputs": [],
   "source": [
    "import re\n",
    "my_str = \"\"\"\n",
    "Sogdiana and establish a capital city at Pendjikent.\"[MAJIDBENAM_REF_21]</div><div>Toramana, who made conquests in India \"established his capital city at Salaka\" [MAJIDBENAM_REF_22]</div><div class='meatypart'><b>♠ Language ♣ Bactrian ♥</b> Bactrian; Iranian; Turkic According to the Chinese records from the period, the language of the Hephthalites was distinct from that of those Iranian-speaking people of Central Asia who were called Hu by the Chinese. However, there is no consensus among scholars.[MAJIDBENAM_REF_23] Recent work has reappraised Chinese manuscript sources to postulate that the Hephtalites had ceased to retain their original Altaic language and adopted Bactrian by the end of the fourth century. [MAJIDBENAM_REF_24] \"Probably dominated by an Eastern Iranian language, but their mixed ancestry also lead to multilingualism.\"[MAJIDBENAM_REF_25]<b>♠ Linguistic family ♣ Indo-European ♥</b></div><div class='meatypart'><b>♠ Religion Genus ♣ Hephthalite Religions ♥</b> \"Information about the religion of the Hephthalites is provided by the Chinese sources. Sung Yun reports that in Tokharistan ‘the majority of them do not \"\"\"\n",
    "RefRegex = re.compile(r'(<b>♠) Linguistic family(.*?)</b>(.*?)(</div>)')\n",
    "catches_all = RefRegex.finditer(my_str)\n",
    "print(catches_all)\n",
    "if catches_all:\n",
    "    for index, catches in enumerate(catches_all):\n",
    "        my_str = my_str.replace(catches.group(1), \"</div><div class='meatypart'><b>♠\")"
   ]
  },
  {
   "cell_type": "code",
   "execution_count": null,
   "id": "considered-korean",
   "metadata": {},
   "outputs": [],
   "source": [
    "my_str"
   ]
  },
  {
   "cell_type": "code",
   "execution_count": null,
   "id": "proper-deposit",
   "metadata": {},
   "outputs": [],
   "source": [
    "def tuple_choices_maker_2(my_new_list_of_choices, choice_name):\n",
    "    my_tuple_choices = []\n",
    "    str_mid_list = []\n",
    "    the_name_of_the_tuple = f\"{choice_name.upper()}_CHOICES\"\n",
    "    str_top = f\"{the_name_of_the_tuple} = (\\n\"\n",
    "    str_bot = \")\\n\\n\"\n",
    "\n",
    "    for item in my_new_list_of_choices:\n",
    "        #goodie = v[good_key][\"colname\"]\n",
    "        str_mid_list.append(f\"('{item}', '{item}'),\\n\")\n",
    "        str_mid = \"\".join(str_mid_list)\n",
    "    full_string = str_top + str_mid + str_bot\n",
    "    my_tuple_choices.append(full_string)        \n",
    "                       \n",
    "    # take care of beginning and end\n",
    "    my_tuple_choices.insert(0, f\"\\n##### tuple choices for  {choice_name}.\\n\")\n",
    "    my_tuple_choices_str = \"\".join(my_tuple_choices)\n",
    "    return the_name_of_the_tuple, my_tuple_choices_str\n",
    "\n",
    "degree_of_centralization_CHOICES = ['loose', 'confederated state', 'unitary state', 'nominal', 'confederate state', 'quasi-polity', 'suspected unknown', 'none', 'unknown', 'confederation', 'polity', 'NO_VALUE_ON_WIKI', 'nominal allegiance', 'unitary', ]\n",
    "\n",
    "my_text = tuple_choices_maker_2(degree_of_centralization_CHOICES, \"degree_of_centralization\")[0]"
   ]
  },
  {
   "cell_type": "code",
   "execution_count": null,
   "id": "intellectual-moses",
   "metadata": {},
   "outputs": [],
   "source": [
    "print(my_text)"
   ]
  },
  {
   "cell_type": "code",
   "execution_count": null,
   "id": "refined-contemporary",
   "metadata": {},
   "outputs": [],
   "source": [
    "from main_scraper import *\n",
    "import re\n",
    "\n",
    "my_str = \"\"\"\n",
    "  <div><a href=\"/w/index.php?title=File:Asia_500ad.jpg\" class=\"image\"><img alt=\"Asia 500ad.jpg\"\n",
    "                src=\"/w/images/thumb/8/87/Asia_500ad.jpg/500px-Asia_500ad.jpg\"\n",
    "                srcset=\"/w/images/thumb/8/87/Asia_500ad.jpg/750px-Asia_500ad.jpg 1.5x, /w/images/thumb/8/87/Asia_500ad.jpg/1000px-Asia_500ad.jpg 2x\"\n",
    "                width=\"500\" height=\"284\"></a></div>\"\"\"\n",
    "after_img = image_remover(my_str)"
   ]
  },
  {
   "cell_type": "code",
   "execution_count": null,
   "id": "separate-internet",
   "metadata": {},
   "outputs": [],
   "source": [
    "after_img"
   ]
  },
  {
   "cell_type": "code",
   "execution_count": null,
   "id": "classified-theta",
   "metadata": {},
   "outputs": [],
   "source": []
  },
  {
   "cell_type": "code",
   "execution_count": null,
   "id": "variable-check",
   "metadata": {},
   "outputs": [],
   "source": []
  },
  {
   "cell_type": "code",
   "execution_count": null,
   "id": "mexican-chrome",
   "metadata": {},
   "outputs": [],
   "source": [
    "print(catches.group(1))"
   ]
  },
  {
   "cell_type": "code",
   "execution_count": null,
   "id": "other-dividend",
   "metadata": {},
   "outputs": [],
   "source": [
    "a = \"\"\"<p><br>\n",
    "</p>\"\"\"\n",
    "print(a.replace(\"\\n\", \"\"))"
   ]
  },
  {
   "cell_type": "code",
   "execution_count": null,
   "id": "scheduled-hobby",
   "metadata": {},
   "outputs": [],
   "source": [
    "big_dic_1 = general_variables_extractor()"
   ]
  },
  {
   "cell_type": "code",
   "execution_count": null,
   "id": "flush-conducting",
   "metadata": {},
   "outputs": [],
   "source": [
    "len(big_dic_1)"
   ]
  },
  {
   "cell_type": "code",
   "execution_count": null,
   "id": "legislative-snake",
   "metadata": {},
   "outputs": [],
   "source": [
    "big_dic_1[\"Degree of centralization\"]"
   ]
  },
  {
   "cell_type": "code",
   "execution_count": null,
   "id": "worthy-dakota",
   "metadata": {},
   "outputs": [],
   "source": []
  },
  {
   "cell_type": "code",
   "execution_count": null,
   "id": "charitable-amount",
   "metadata": {},
   "outputs": [],
   "source": [
    "import pandas as pd\n",
    "\n",
    "df = pd.read_excel('Equinox_2020_packaged_xls.xls', sheet_name=\"Equinox2020_CanonDat\")\n",
    "\n"
   ]
  },
  {
   "cell_type": "code",
   "execution_count": null,
   "id": "upper-cabin",
   "metadata": {},
   "outputs": [],
   "source": [
    "len(df)"
   ]
  },
  {
   "cell_type": "code",
   "execution_count": null,
   "id": "featured-champagne",
   "metadata": {},
   "outputs": [],
   "source": [
    "unique_general_variables = []\n",
    "for row in df.iterrows():\n",
    "    if row[1]['Section'] == \"General variables\":\n",
    "        if row[1]['Variable'] not in unique_general_variables:\n",
    "            unique_general_variables.append(row[1]['Variable'])"
   ]
  },
  {
   "cell_type": "code",
   "execution_count": null,
   "id": "regular-worcester",
   "metadata": {},
   "outputs": [],
   "source": [
    "print(unique_general_variables)"
   ]
  },
  {
   "cell_type": "code",
   "execution_count": null,
   "id": "congressional-halifax",
   "metadata": {},
   "outputs": [],
   "source": [
    "import re\n",
    "\n",
    "def is_there_years_here(my_str):\n",
    "    my_catches = re.findall('(-?\\d{1,4})[ ]{0,1}([B|b]*[C|c][E|e]*)*[-|_| ](\\d{1,4})[ ]{0,1}([B|b]*[C|c][E|e]*)*', my_str)\n",
    "    if len(my_catches) > 1:\n",
    "        print(f\"Catches are more than 1: {len(my_catches)}\")\n",
    "    return my_catches\n",
    "\n",
    "def remove_year_range(a_str):\n",
    "    my_new_str = re.sub('(-?\\d{1,4})[ ]{0,1}(B*CE*)*[-|_| ](\\d{1,4})[ ]{0,1}(B*CE*)*', \"\", a_str)\n",
    "    while \"  \" in my_new_str:\n",
    "        my_new_str  = my_new_str.replace(\"  \", \" \").strip()\n",
    "    return my_new_str\n",
    "\n",
    "my_str = \"hi 750-54 Bc ali\"\n",
    "\n",
    "my_catch = is_there_years_here(my_str)\n",
    "b = remove_year_range(my_str)"
   ]
  },
  {
   "cell_type": "code",
   "execution_count": null,
   "id": "equipped-thanksgiving",
   "metadata": {},
   "outputs": [],
   "source": [
    "my_catch"
   ]
  },
  {
   "cell_type": "code",
   "execution_count": null,
   "id": "russian-advocacy",
   "metadata": {},
   "outputs": [],
   "source": [
    "new_str = my_str\n",
    "for item in my_catch:\n",
    "    new_str = new_str.replace(item.group(1), \"\")\n",
    "    print(item.group(1))\n",
    "print(my_str)\n",
    "print(new_str)"
   ]
  },
  {
   "cell_type": "code",
   "execution_count": null,
   "id": "ready-tournament",
   "metadata": {},
   "outputs": [],
   "source": [
    "stripped_str = \"[3000000-4000000] tt4 \"\n",
    "my_catches = re.findall('\\[[ ]{0,1}(\\d{1,15})[ ]{0,1}[-|_| ][ ]{0,1}(\\d{1,15})[ ]{0,1}\\]', stripped_str)"
   ]
  },
  {
   "cell_type": "code",
   "execution_count": null,
   "id": "unnecessary-ranch",
   "metadata": {},
   "outputs": [],
   "source": [
    "len(my_catches)"
   ]
  },
  {
   "cell_type": "code",
   "execution_count": null,
   "id": "alternate-custody",
   "metadata": {},
   "outputs": [],
   "source": [
    "def utc_zone_finder(a_str, a_polity):\n",
    "    stripped_str = a_str.replace(\",\", \"\").strip()\n",
    "    letter_part_obj = re.search('([A-Z])', stripped_str)\n",
    "    num_part_obj = re.search('(\\d{1,2})', stripped_str)\n",
    "    num_part = num_part_obj.group(0)\n",
    "    letter_part = letter_part_obj.group(0)\n",
    "    if num_part and letter_part:\n",
    "        output = f\"{num_part} {letter_part}\"\n",
    "    else:\n",
    "        output = \"NO_VALID_VALUE\"\n",
    "        print(f\"BAD_VALUE_GIVEN: {a_str} for: {a_polity}\")\n",
    "    return output\n",
    "\n",
    "print(utc_zone_finder(\"45 R\", \"Ali\"))"
   ]
  },
  {
   "cell_type": "code",
   "execution_count": null,
   "id": "israeli-smell",
   "metadata": {},
   "outputs": [],
   "source": [
    "MYINT = ['IntegerField', 'NumberInput']\n",
    "MYDEC = ['DecimalField', 'NumberInput']\n",
    "MYTXT = ['CharField', 'TextInput']\n",
    "# for these we need, the pandas dfs to smartly select the choices, put them in a tuple or list\n",
    "MYTXT_CH = ['CharField', 'Select']\n",
    "MYFOREIGN = ['ForeignKey', 'Select']\n",
    "\n",
    "\n",
    "def tuple_choices_maker_2(my_new_list_of_choices, choice_name):\n",
    "    my_tuple_choices = []\n",
    "    str_mid_list = []\n",
    "    the_name_of_the_tuple = f\"{choice_name.upper()}_CHOICES\"\n",
    "    str_top = f\"{the_name_of_the_tuple} = (\\n\"\n",
    "    str_bot = \")\\n\\n\"\n",
    "\n",
    "    for item in my_new_list_of_choices:\n",
    "        #goodie = v[good_key][\"colname\"]\n",
    "        str_mid_list.append(f\"('{item}', '{item}'),\\n\")\n",
    "        str_mid = \"\".join(str_mid_list)\n",
    "    full_string = str_top + str_mid + str_bot\n",
    "    my_tuple_choices.append(full_string)        \n",
    "                       \n",
    "    # take care of beginning and end\n",
    "    my_tuple_choices.insert(0, f\"\\n##### tuple choices for  {choice_name}.\\n\")\n",
    "    my_tuple_choices_str = \"\".join(my_tuple_choices)\n",
    "    return the_name_of_the_tuple, my_tuple_choices_str\n",
    "\n",
    "'continuity', 'continuation', 'Continuation', 'contination', 'Continuity', 'continunity', \n",
    "\n",
    "\n",
    "degree_of_centralization_CHOICES = ['loose', 'confederated state', 'unitary state', 'nominal', 'confederate state', 'quasi-polity', 'suspected unknown', 'none', 'unknown', 'confederation', 'polity', 'NO_VALUE_ON_WIKI', 'nominal allegiance', 'unitary', ]\n",
    "\n",
    "supra_polity_relations_CHOICES =  ['none', 'vassalage', 'alliance', 'nominal allegiance', 'suspected unknown', 'nominal', 'personal union', 'NO_VALUE_ON_WIKI', 'unknown', 'Nominal', 'Alliance', 'uncoded',]\n",
    "\n",
    "language_CHOICES = ['Pashto', 'Persian', 'Greek', 'Bactrian', 'Sogdian', 'Pahlavi', 'Brahmi', 'Kharoshthi', 'Tocharian', 'Chinese', 'archaic Chinese', 'Xiangxi', 'Qiandong', 'Chuanqiandian', 'Hmong-Mien', 'Hmongic', 'Middle Chinese', 'Jurchen', 'Khitan', 'Xianbei', 'Manchu language', 'Mongolian language', 'Atanque', 'Shuar', 'Arabic', 'suspected unknown', 'NO_VALUE_ON_WIKI', 'Demotic', 'Ancient Egyptian', 'Late Egyptian', 'demotic Egyptian', 'Castilian Spanish', 'Chuukese', 'French', 'Langues dOil', 'Occitan', 'Latin', 'Old Frankish', 'Germanic', 'Gallic', 'Gaulish', 'English', 'Akan', 'Twi', 'Doric Greek', 'Minoan', 'Early Greek', 'Eteocretan', 'Old Hawaiian', 'Hawaiian', 'Iban', 'Sanskrit', 'Old Javanese', 'Middle Javanese', 'Javanese', 'Canaanite', 'Aramaic', 'Hebrew', 'Kannada', 'Urdu', 'A’chik', 'Prakrit', 'Telugu', 'Tamil', 'Akkadian', 'Sumerian', 'Amorite', 'Old Babylonian', 'Mesopotamian Religions', 'Old Persian', 'Elamite', 'Egyptian', 'Old Elamite', 'Mongolian', 'native Iranian languages', 'Turkic', 'Turkish', 'Babylonian', 'Hurrian', 'Proto-Elamite', 'Old Norse', 'Italian', 'Middle Japanese', 'Old Japanese', 'Late Old Japanese', 'Japanese', 'Early Modern Japanese', 'Old Turkic', 'Iranian', 'Old Khmer', 'Mon', 'Tai', 'Khmer', 'Pali', 'Phoenician', 'Berber', 'Spanish', 'Portuguese', 'Bambara', 'Mande', 'Songhay', 'Russian', 'Georgian', 'Armenian', 'Kereid', 'Tatar', 'Naimans', 'Khalkha', 'Rouran', 'Xiongnu', 'Oirat', 'Zapotec', 'Icelandic', 'Aymara', 'Puquina', 'Quechua', 'Orokaiva', 'unknown', 'Sindhi', 'Punjabi', 'Sakha (Yakut)', 'Merotic', 'Coptic', 'Thai', 'Proto-Indo-European language', 'Nesite', 'Luwian', 'Hattic', 'Hittite', 'Old Assyrian dialect of Akkadian', 'Indo-European language', 'Lydian', 'Ottoman Turkish', 'Phrygian', 'Miami Illinois', 'Cayuga', 'Mohawk', 'Oneida', 'Onondaga', 'Seneca', 'Tuscarora', 'Middle Mongolian', 'Ancient Iranian', 'Chagatai Turkish', 'Sabaic', 'Mainic', 'Qatabanic', 'Hadramawtic', 'Old Arabic']\n",
    "\n",
    "# Done Merged (language_genus and linguistic_family)\n",
    "linguistic_family_CHOICES = ['Indo-European', 'Sino-Tibetan', 'NO_VALUE_ON_WIKI', 'Tungusic', 'Altaic', 'Mongolic', 'Chibcha', 'Chicham', 'Afro-Asiatic', 'Oceanic-Austronesian', 'Celtic', 'Niger-Congo', 'Kwa', 'Hamito-Semitic', 'Austronesian', 'Malayo-Polynesian', 'Semitic', 'Indo-Iranian', 'Dravidian', 'isolate language', 'West Semetic', 'isolate', 'suspected unknown', 'language isolate', 'none', 'Germanic', 'Japonic', 'Turkic', 'Austro-Asiatic, Mon-Khmer', 'Austro-Asiatic', 'unknown', 'Mande', 'Songhay', 'Oghuz', 'Kartvelian', 'Manchu-Tungusic', 'Proto-Mongolic', 'Otomanguean', 'Proto-Otomanguean', 'Mixe-Zoquean', 'Aymaran', 'Quechuan', 'Papuan Languages', 'Tai-Kadai', 'Algonquian', 'Iroquois', 'Iranian']\n",
    "\n",
    "# Done Merged\n",
    "religion_genus_CHOICES = ['Zoroastrianism', 'Graeco-Bactrian Religions', 'Buddhism', 'Christianity', 'Islam', 'Mongolian Shamanism', 'Hittite Religions', 'Ismaili', 'Lydian Religions', 'Chinese State Religion', 'Egyptian Religions', 'Ancient Iranian Religions', 'Hellenistic Religions', 'Hephthalite Religions', 'Manichaeism', 'Ancient East Asian Religion', 'Jain Traditions', 'Xiongnu Religions', 'Roman State Religions', 'Shinto', 'Phrygian Religions', 'Mesopotamian Religions', 'Hinduism', 'Ancient Javanese Religions', 'Confucianism',]\n",
    "\n",
    "# Done Merged\n",
    "religion_family_CHOICES = ['Saivist Traditions', 'Assyrian Religions', 'Republican Religions', 'Imperial Confucian Traditions', 'Shii', 'Bhagavatist Traditions', 'Sunni', 'Vedist Traditions', 'Saivist', 'Islam', 'Chinese Folk Religion', 'Semitic', 'Vaisnava Traditions', 'Ptolemaic Religion', 'Vedic Traditions', 'Japanese Buddhism', 'Orthodox', 'Vaishnava Traditions', 'Shang Religion', 'Atenism', 'Mahayana', 'suspected unknown', 'Japanese State Shinto', 'Saiva Traditions', 'Sufi', 'Chinese Buddhist Traditions', 'Arian', 'Shia', 'Catholic', 'Western Zhou Religion', 'Imperial Cult', 'Theravada', 'Seleucid Religion',]\n",
    "\n",
    "# Done Merged\n",
    "religion_CHOICES = ['Islam', 'Shadhil', 'Karrami', 'Hanafi', 'Mevlevi', 'Ismaili', 'Shafii', 'Shia', 'Twelver', 'Byzantine Orthodox', 'Bektasi', 'NO_VALUE_ON_WIKI', 'Sunni', 'Roman Catholic', ]\n",
    "\n",
    "relationship_to_preceding_entity_CHOICES = ['continuity', 'elite migration', 'cultural assimilation', 'continuation', 'indigenous revolt', 'replacement', 'population migration', 'hostile', 'disruption/continuity', 'continuity/discontinuity', 'NO_VALUE_ON_WIKI', 'suspected unknown', 'vassalage', 'not applicable',]\n",
    "\n",
    "\n",
    "ALL_GENERAL_VARS_LIST =[\n",
    "    {\n",
    "    'varname': 'polityresearchassistant',\n",
    "    'cols': 1,\n",
    "    'needsSeshatCommon': True,\n",
    "    'db_name': \"general\", # Hier\n",
    "    'main_desc': \"The RA(s) who worked on a polity.\", # Hier\n",
    "    'section': \"General Variables\", # Hier\n",
    "    'subsection': \"Staff\", # Hier \n",
    "    },\n",
    "    {\n",
    "    'varname': 'polityutmzone',\n",
    "    'cols': 1,\n",
    "    'needsSeshatCommon': True,\n",
    "    'db_name': \"general\", # Hier\n",
    "    'main_desc': \"The UTM Zone of a polity.\", # Hier\n",
    "    'section': \"General Variables\", # Hier\n",
    "    'subsection': \"General\", # Hier \n",
    "    },\n",
    "    {\n",
    "    'varname': 'polityoriginalname',\n",
    "    'cols': 1,\n",
    "    'needsSeshatCommon': True,\n",
    "    'db_name': \"general\", # Hier\n",
    "    'main_desc': \"The original name of a polity.\", # Hier\n",
    "    'section': \"General Variables\", # Hier\n",
    "    'subsection': \"General\", # Hier \n",
    "    },\n",
    "    {\n",
    "    'varname': 'polityalternativename',\n",
    "    'cols': 1,\n",
    "    'needsSeshatCommon': True,\n",
    "    'db_name': \"general\", # Hier\n",
    "    'main_desc': \"The alternative name of a polity.\", # Hier\n",
    "    'section': \"General Variables\", # Hier\n",
    "    'subsection': \"General\", # Hier \n",
    "    },\n",
    "    {\n",
    "    'varname': 'politypeakyears',\n",
    "    'cols': 2,\n",
    "    'needsSeshatCommon': True,\n",
    "    'db_name': \"general\", # Hier\n",
    "    'main_desc': \"The alternative name of a polity.\", # Hier\n",
    "    'section': \"General Variables\", # Hier\n",
    "    'subsection': \"General\", # Hier \n",
    "    },\n",
    "    {\n",
    "    'varname': 'polityduration',\n",
    "    'cols': 2,\n",
    "    'needsSeshatCommon': True,\n",
    "    'db_name': \"general\", # Hier\n",
    "    'main_desc': \"The alternative name of a polity.\", # Hier\n",
    "    'section': \"General Variables\", # Hier\n",
    "    'subsection': \"General\", # Hier \n",
    "    },\n",
    "    {\n",
    "    'varname': 'politydegreeofcentralization',\n",
    "    'cols': 1,\n",
    "    'needsSeshatCommon': True,\n",
    "    'db_name': \"general\", # Hier\n",
    "    'main_desc': \"The degree of centralization of a polity.\", # Hier\n",
    "    'section': \"General Variables\", # Hier\n",
    "    'subsection': \"General\", # Hier \n",
    "    },\n",
    "    {\n",
    "    'varname': 'politysuprapolityrelations',\n",
    "    'cols': 1,\n",
    "    'needsSeshatCommon': True,\n",
    "    'db_name': \"general\", # Hier\n",
    "    'main_desc': \"The supra polity relations of a polity.\", # Hier\n",
    "    'section': \"General Variables\", # Hier\n",
    "    'subsection': \"General\", # Hier \n",
    "    },\n",
    "    {\n",
    "    'varname': 'politycapital',\n",
    "    'cols': 1,\n",
    "    'needsSeshatCommon': True,\n",
    "    'db_name': \"general\", # Hier\n",
    "    'main_desc': \"The capital or the largest settlement of a polity.\", # Hier\n",
    "    'section': \"General Variables\", # Hier\n",
    "    'subsection': \"General\", # Hier \n",
    "    },\n",
    "    {\n",
    "    'varname': 'politylanguage',\n",
    "    'cols': 1,\n",
    "    'needsSeshatCommon': True,\n",
    "    'db_name': \"general\", # Hier\n",
    "    'main_desc': \"The language or the largest settlement of a polity.\", # Hier\n",
    "    'section': \"General Variables\", # Hier\n",
    "    'subsection': \"General\", # Hier \n",
    "    },\n",
    "    {\n",
    "    'varname': 'politylinguisticfamily',\n",
    "    'cols': 1,\n",
    "    'needsSeshatCommon': True,\n",
    "    'db_name': \"general\", # Hier\n",
    "    'main_desc': \"The linguistic family of a polity.\", # Hier\n",
    "    'section': \"General Variables\", # Hier\n",
    "    'subsection': \"General\", # Hier \n",
    "    },\n",
    "    {\n",
    "    'varname': 'politylanguagegenus',\n",
    "    'cols': 1,\n",
    "    'needsSeshatCommon': True,\n",
    "    'db_name': \"general\", # Hier\n",
    "    'main_desc': \"The language genus of a polity.\", # Hier\n",
    "    'section': \"General Variables\", # Hier\n",
    "    'subsection': \"General\", # Hier \n",
    "    },\n",
    "    {\n",
    "    'varname': 'polityreligiongenus',\n",
    "    'cols': 1,\n",
    "    'needsSeshatCommon': True,\n",
    "    'db_name': \"general\", # Hier\n",
    "    'main_desc': \"The religion genus of a polity.\", # Hier\n",
    "    'section': \"General Variables\", # Hier\n",
    "    'subsection': \"General\", # Hier \n",
    "    },\n",
    "    {\n",
    "    'varname': 'polityreligionfamily',\n",
    "    'cols': 1,\n",
    "    'needsSeshatCommon': True,\n",
    "    'db_name': \"general\", # Hier\n",
    "    'main_desc': \"The religion family of a polity.\", # Hier\n",
    "    'section': \"General Variables\", # Hier\n",
    "    'subsection': \"General\", # Hier \n",
    "    },\n",
    "    {\n",
    "    'varname': 'polityreligion',\n",
    "    'cols': 1,\n",
    "    'needsSeshatCommon': True,\n",
    "    'db_name': \"general\", # Hier\n",
    "    'main_desc': \"The religion of a polity.\", # Hier\n",
    "    'section': \"General Variables\", # Hier\n",
    "    'subsection': \"General\", # Hier \n",
    "    },\n",
    "    {\n",
    "    'varname': 'polityrelationshiptoprecedingentity',\n",
    "    'cols': 1,\n",
    "    'needsSeshatCommon': True,\n",
    "    'db_name': \"general\", # Hier\n",
    "    'main_desc': \"The polity relationship to preceding (quasi)polity\", # Hier\n",
    "    'section': \"General Variables\", # Hier\n",
    "    'subsection': \"General\", # Hier \n",
    "    },\n",
    "    {\n",
    "    'varname': 'polityprecedingentity',\n",
    "    'cols': 1,\n",
    "    'needsSeshatCommon': True,\n",
    "    'db_name': \"general\", # Hier\n",
    "    'main_desc': \"The preceding entity of a polity.\", # Hier\n",
    "    'section': \"General Variables\", # Hier\n",
    "    'subsection': \"General\", # Hier \n",
    "    },\n",
    "    {\n",
    "    'varname': 'politysucceedingentity',\n",
    "    'cols': 1,\n",
    "    'needsSeshatCommon': True,\n",
    "    'db_name': \"general\", # Hier\n",
    "    'main_desc': \"The succeeding entity of a polity.\", # Hier\n",
    "    'section': \"General Variables\", # Hier\n",
    "    'subsection': \"General\", # Hier \n",
    "    },\n",
    "    {\n",
    "    'varname': 'politysupraculturalentity',\n",
    "    'cols': 1,\n",
    "    'needsSeshatCommon': True,\n",
    "    'db_name': \"general\", # Hier\n",
    "    'main_desc': \"The supracultural entity of a polity.\", # Hier\n",
    "    'section': \"General Variables\", # Hier\n",
    "    'subsection': \"General\", # Hier \n",
    "    },\n",
    "    {\n",
    "    'varname': 'polityscaleofsupraculturalinteraction',\n",
    "    'cols': 2,\n",
    "    'needsSeshatCommon': True,\n",
    "    'db_name': \"general\", # Hier\n",
    "    'main_desc': \"The scale_of_supra_cultural_interaction of a polity.\", # Hier\n",
    "    'section': \"General Variables\", # Hier\n",
    "    'subsection': \"General\", # Hier \n",
    "    },\n",
    "    {\n",
    "    'varname': 'polityalternatereligiongenus',\n",
    "    'cols': 1,\n",
    "    'needsSeshatCommon': True,\n",
    "    'db_name': \"general\", # Hier\n",
    "    'main_desc': \"The alternate religion genus of a polity.\", # Hier\n",
    "    'section': \"General Variables\", # Hier\n",
    "    'subsection': \"General\", # Hier \n",
    "    },\n",
    "    {\n",
    "    'varname': 'polityalternatereligionfamily',\n",
    "    'cols': 1,\n",
    "    'needsSeshatCommon': True,\n",
    "    'db_name': \"general\", # Hier\n",
    "    'main_desc': \"The alternate religion family of a polity.\", # Hier\n",
    "    'section': \"General Variables\", # Hier\n",
    "    'subsection': \"General\", # Hier \n",
    "    },\n",
    "    {\n",
    "    'varname': 'polityalternatereligion',\n",
    "    'cols': 1,\n",
    "    'needsSeshatCommon': True,\n",
    "    'db_name': \"general\", # Hier\n",
    "    'main_desc': \"The alternate religion  of a polity.\", # Hier\n",
    "    'section': \"General Variables\", # Hier\n",
    "    'subsection': \"General\", # Hier \n",
    "    },\n",
    "    {\n",
    "    'varname': 'polityexpert',\n",
    "    'cols': 1,\n",
    "    'needsSeshatCommon': True,\n",
    "    'db_name': \"general\", # Hier\n",
    "    'main_desc': \"The expert of a polity.\", # Hier\n",
    "    'section': \"General Variables\", # Hier\n",
    "    'subsection': \"General\", # Hier \n",
    "    },\n",
    "    {\n",
    "    'varname': 'polityeditor',\n",
    "    'cols': 1,\n",
    "    'needsSeshatCommon': True,\n",
    "    'db_name': \"general\", # Hier\n",
    "    'main_desc': \"The editor of a polity.\", # Hier\n",
    "    'section': \"General Variables\", # Hier\n",
    "    'subsection': \"General\", # Hier \n",
    "    },\n",
    "    {\n",
    "    'varname': 'polityreligioustradition',\n",
    "    'cols': 1,\n",
    "    'needsSeshatCommon': True,\n",
    "    'db_name': \"general\", # Hier\n",
    "    'main_desc': \"The details of religious traditions.\", # Hier\n",
    "    'section': \"General Variables\", # Hier\n",
    "    'subsection': \"General\", # Hier \n",
    "    }\n",
    "]\n",
    "\n",
    "\n",
    "ALL_GENERAL_COLS_LIST =[\n",
    "{\n",
    "    'colname': \"polity_ra\",\n",
    "    'dtype': MYFOREIGN,\n",
    "    'varname': 'polityresearchassistant', # key\n",
    "    'col_exp': \"The RA of a polity.\",\n",
    "    'foreign_key': \"SeshatExpert\",\n",
    "    'foreign_key_related_name': \"seshat_research_assistant\",\n",
    "    },\n",
    "    {\n",
    "    'colname': \"utm_zone\",\n",
    "    'dtype': MYTXT,\n",
    "    'varname': 'polityutmzone', # key\n",
    "    'col_exp': \"The details of UTM_ZONE.\",\n",
    "    'max_digits': 5,\n",
    "    'null_meaning': \"No_Value_Provided_in_Old_Wiki\"\n",
    "    },\n",
    "    {\n",
    "    'colname': \"original_name\",\n",
    "    'dtype': MYTXT,\n",
    "    'varname': 'polityoriginalname', # key\n",
    "    'col_exp': \"The details of original_name.\",\n",
    "    'max_digits': 100,\n",
    "    'null_meaning': \"No_Value_Provided_in_Old_Wiki\"\n",
    "    },\n",
    "    {\n",
    "    'colname': \"alternative_name\",\n",
    "    'dtype': MYTXT,\n",
    "    'varname': 'polityalternativename', # key\n",
    "    'col_exp': \"The details of alternative_name.\",\n",
    "    'max_digits': 100,\n",
    "    'null_meaning': \"No_Value_Provided_in_Old_Wiki\"\n",
    "    },\n",
    "    {\n",
    "    'colname': \"peak_year_from\",\n",
    "    'dtype': MYINT,\n",
    "    'varname': 'politypeakyears', # key\n",
    "    'col_exp': \"The beginning of the peak year for a polity.\",\n",
    "    'null_meaning': \"No_Value_Provided_in_Old_Wiki\"\n",
    "    },\n",
    "    {\n",
    "    'colname': \"peak_year_to\",\n",
    "    'dtype': MYINT,\n",
    "    'varname': 'politypeakyears', # key\n",
    "    'col_exp':  \"The end of the peak year for a polity.\",\n",
    "    'null_meaning': \"No_Value_Provided_in_Old_Wiki\"\n",
    "    },\n",
    "    {\n",
    "    'colname': \"polity_year_from\",\n",
    "    'dtype': MYINT,\n",
    "    'varname': 'polityduration', # key\n",
    "    'col_exp': \"The beginning year for a polity.\",\n",
    "    'null_meaning': \"No_Value_Provided_in_Old_Wiki\"\n",
    "    },\n",
    "    {\n",
    "    'colname': \"polity_year_to\",\n",
    "    'dtype': MYINT,\n",
    "    'varname': 'polityduration', # key\n",
    "    'col_exp':  \"The end year for a polity.\",\n",
    "    'null_meaning': \"No_Value_Provided_in_Old_Wiki\"\n",
    "    },\n",
    "    {\n",
    "    'colname': \"degree_of_centralization\",\n",
    "    'dtype': MYTXT_CH,\n",
    "    'varname': 'politydegreeofcentralization', # key\n",
    "    'col_exp': \"The details of degree_of_centralization.\",\n",
    "    'max_digits': 50,\n",
    "    'choices': tuple_choices_maker_2(degree_of_centralization_CHOICES, \"degree_of_centralization\")[0],\n",
    "    'null_meaning': \"No_Value_Provided_in_Old_Wiki\"\n",
    "    },\n",
    "    {\n",
    "    'colname': \"supra_polity_relations\",\n",
    "    'dtype': MYTXT_CH,\n",
    "    'varname': 'politysuprapolityrelations', # key\n",
    "    'col_exp': \"The details of supra polity relations.\",\n",
    "    'max_digits': 50,\n",
    "    'choices': tuple_choices_maker_2(supra_polity_relations_CHOICES, \"supra_polity_relations\")[0],\n",
    "    'null_meaning': \"No_Value_Provided_in_Old_Wiki\"\n",
    "    },\n",
    "    {\n",
    "    'colname': \"capital\",\n",
    "    'dtype': MYTXT,\n",
    "    'varname': 'politycapital', # key\n",
    "    'col_exp': \"The capital or the largest settlement of a polity.\",\n",
    "    'max_digits': 70,\n",
    "    'null_meaning': \"This polity did not have a capital or the largest settlement.\"\n",
    "    },\n",
    "    {\n",
    "    'colname': \"language\",\n",
    "    'dtype': MYTXT_CH,\n",
    "    'varname': 'politylanguage', # key\n",
    "    'col_exp': \"The language of a polity.\",\n",
    "    'max_digits': 70,\n",
    "    'choices': tuple_choices_maker_2(language_CHOICES, \"language\")[0],\n",
    "    'null_meaning': \"This polity did not have a language.\"\n",
    "    },\n",
    "    {\n",
    "    'colname': \"linguistic_family\",\n",
    "    'dtype': MYTXT_CH,\n",
    "    'varname': 'politylinguisticfamily', # key\n",
    "    'col_exp': \"The linguistic family of a polity.\",\n",
    "    'max_digits': 70,\n",
    "    'choices': tuple_choices_maker_2(linguistic_family_CHOICES, \"linguistic_family\")[0],\n",
    "    'null_meaning': \"This polity did not have a linguistic family.\"\n",
    "    },\n",
    "    {\n",
    "    'colname': \"language_genus\",\n",
    "    'dtype': MYTXT_CH,\n",
    "    'varname': 'politylanguagegenus', # key\n",
    "    'col_exp': \"The language genus of a polity.\",\n",
    "    'max_digits': 70,\n",
    "    'choices': tuple_choices_maker_2(linguistic_family_CHOICES, \"linguistic_family\")[0],\n",
    "    'null_meaning': \"This polity did not have a language Genus.\"\n",
    "    },\n",
    "    {\n",
    "    'colname': \"religion_genus\",\n",
    "    'dtype': MYTXT_CH,\n",
    "    'varname': 'polityreligiongenus', # key\n",
    "    'col_exp': \"The religion genus of a polity.\",\n",
    "    'max_digits': 70,\n",
    "    'choices': tuple_choices_maker_2(religion_genus_CHOICES, \"religion_genus\")[0],\n",
    "    'null_meaning': \"This polity did not have a religion genus.\"\n",
    "    },\n",
    "    {\n",
    "    'colname': \"religion_family\",\n",
    "    'dtype': MYTXT_CH,\n",
    "    'varname': 'polityreligionfamily', # key\n",
    "    'col_exp': \"The religion family of a polity.\",\n",
    "    'max_digits': 70,\n",
    "    'choices': tuple_choices_maker_2(religion_family_CHOICES, \"religion_family\")[0],\n",
    "    'null_meaning': \"This polity did not have a religion family.\"\n",
    "    },\n",
    "    {\n",
    "    'colname': \"religion\",\n",
    "    'dtype': MYTXT_CH,\n",
    "    'varname': 'polityreligion', # key\n",
    "    'col_exp': \"The religion of a polity.\",\n",
    "    'max_digits': 70,\n",
    "    'choices': tuple_choices_maker_2(religion_CHOICES, \"religion\")[0],\n",
    "    'null_meaning': \"This polity did not have a religion.\"\n",
    "    },\n",
    "    {\n",
    "    'colname': \"relationship_to_preceding_entity\",\n",
    "    'dtype': MYTXT_CH,\n",
    "    'varname': 'polityrelationshiptoprecedingentity', # key\n",
    "    'col_exp': \"The polity relationship to preceding (quasi)polity\",\n",
    "    'max_digits': 70,\n",
    "    'choices': tuple_choices_maker_2(relationship_to_preceding_entity_CHOICES, \"relationship_to_preceding_entity\")[0],\n",
    "    'null_meaning': \"This polity did not have a relationship to preceding (quasi)polity\"\n",
    "    },\n",
    "    {\n",
    "    'colname': \"preceding_entity\",\n",
    "    'dtype': MYTXT,\n",
    "    'varname': 'polityprecedingentity', # key\n",
    "    'col_exp': \"The preceding entity or the largest settlement of a polity.\",\n",
    "    'max_digits': 70,\n",
    "    'null_meaning': \"This polity did not have a preceding entity.\"\n",
    "    },\n",
    "    {'colname': \"succeeding_entity\",\n",
    "    'dtype': MYTXT,\n",
    "    'varname': 'politysucceedingentity', # key\n",
    "    'col_exp': \"The succeeding entity or the largest settlement of a polity.\",\n",
    "    'max_digits': 70,\n",
    "    'null_meaning': \"This polity did not have a succeeding entity.\"\n",
    "    },\n",
    "    {\n",
    "    'colname': \"supracultural_entity\",\n",
    "    'dtype': MYTXT,\n",
    "    'varname': 'politysupraculturalentity', # key\n",
    "    'col_exp': \"The supracultural entity or the largest settlement of a polity.\",\n",
    "    'max_digits': 100,\n",
    "    'null_meaning': \"This polity did not have a supracultural entity.\"\n",
    "    },\n",
    "    {\n",
    "    'colname': \"scale_from\",\n",
    "    'dtype': MYINT,\n",
    "    'varname': 'polityscaleofsupraculturalinteraction', # key\n",
    "    'col_exp': \"The lower scale of supra cultural interactionfor a polity.\",\n",
    "    'units': \"km squared\",\n",
    "    'min': 0,\n",
    "    'null_meaning': \"No_Value_Provided_in_Old_Wiki\"\n",
    "    },\n",
    "    {\n",
    "    'colname': \"scale_to\",\n",
    "    'dtype': MYINT,\n",
    "    'varname': 'polityscaleofsupraculturalinteraction', # key\n",
    "    'col_exp':  \"The upper scale of supra cultural interactionfor a polity.\",\n",
    "    'units': \"km squared\",\n",
    "    'min': 0,\n",
    "    'null_meaning': \"No_Value_Provided_in_Old_Wiki\"\n",
    "    },\n",
    "    {\n",
    "    'colname': \"alternate_religion_genus\",\n",
    "    'dtype': MYTXT_CH,\n",
    "    'varname': 'polityalternatereligiongenus', # key\n",
    "    'col_exp': \"The alternate religion genus of a polity.\",\n",
    "    'max_digits': 70,\n",
    "    'choices': tuple_choices_maker_2(religion_genus_CHOICES, \"religion_genus\")[0],\n",
    "    'null_meaning': \"This polity did not have a alternatereligion genus.\"\n",
    "    },\n",
    "    {\n",
    "    'colname': \"alternate_religion_family\",\n",
    "    'dtype': MYTXT_CH,\n",
    "    'varname': 'polityalternatereligionfamily', # key\n",
    "    'col_exp': \"The alternate religion family of a polity.\",\n",
    "    'max_digits': 70,\n",
    "    'choices': tuple_choices_maker_2(religion_family_CHOICES, \"religion_family\")[0],\n",
    "    'null_meaning': \"This polity did not have a alternate religion family.\"\n",
    "    },\n",
    "    {\n",
    "    'colname': \"alternate_religion\",\n",
    "    'dtype': MYTXT_CH,\n",
    "    'varname': 'polityalternatereligion', # key\n",
    "    'col_exp': \"The alternate religion of a polity.\",\n",
    "    'max_digits': 70,\n",
    "    'choices': tuple_choices_maker_2(religion_CHOICES, \"religion\")[0],\n",
    "    'null_meaning': \"This polity did not have a alternate religion .\"\n",
    "    },\n",
    "    {\n",
    "    'colname': \"expert\",\n",
    "    'dtype': MYFOREIGN,\n",
    "    'varname': 'polityexpert', # key\n",
    "    'col_exp': \"The expert of a polity.\",\n",
    "    'foreign_key': \"SeshatExpert\",\n",
    "    'foreign_key_related_name': \"seshat_expert\",\n",
    "    'null_meaning': \"This polity did not have an expert.\"\n",
    "    },\n",
    "    {\n",
    "    'colname': \"editor\",\n",
    "    'dtype': MYFOREIGN,\n",
    "    'varname': 'polityeditor', # key\n",
    "    'col_exp': \"The editor of a polity.\",\n",
    "    'foreign_key': \"SeshatExpert\",\n",
    "    'foreign_key_related_name': \"seshat_editor\",\n",
    "    'null_meaning': \"This polity did not have an editor.\"\n",
    "    },\n",
    "    {\n",
    "    'colname': \"religious_tradition\",\n",
    "    'dtype': MYTXT,\n",
    "    'varname': 'polityreligioustradition', # key\n",
    "    'col_exp': \"The details of religious traditions.\",\n",
    "    'max_digits': 100,\n",
    "    'null_meaning': \"No_Value_Provided_in_Old_Wiki\"\n",
    "    }\n",
    "]\n"
   ]
  },
  {
   "cell_type": "code",
   "execution_count": null,
   "id": "exclusive-court",
   "metadata": {},
   "outputs": [],
   "source": []
  },
  {
   "cell_type": "code",
   "execution_count": null,
   "id": "liberal-explorer",
   "metadata": {},
   "outputs": [],
   "source": [
    "def var_col_dic_nmaker(ALL_GENERAL_VARS_LIST, ALL_GENERAL_COLS_LIST):\n",
    "    mother_dic = {}\n",
    "    for var_dic in ALL_GENERAL_VARS_LIST:\n",
    "        new_entries = []\n",
    "        for col_dic in ALL_GENERAL_COLS_LIST:\n",
    "            if var_dic[\"varname\"] == col_dic[\"varname\"] and col_dic[\"colname\"] not in new_entries:\n",
    "                new_entries.append(col_dic[\"colname\"])\n",
    "        mother_dic[var_dic[\"varname\"]] = new_entries\n",
    "    return mother_dic"
   ]
  },
  {
   "cell_type": "code",
   "execution_count": null,
   "id": "assisted-notion",
   "metadata": {},
   "outputs": [],
   "source": [
    "my_dic = var_col_dic_nmaker(ALL_GENERAL_VARS_LIST, ALL_GENERAL_COLS_LIST)"
   ]
  },
  {
   "cell_type": "code",
   "execution_count": null,
   "id": "cooked-robert",
   "metadata": {},
   "outputs": [],
   "source": [
    "my_dic"
   ]
  },
  {
   "cell_type": "code",
   "execution_count": null,
   "id": "alien-passage",
   "metadata": {},
   "outputs": [],
   "source": []
  },
  {
   "cell_type": "code",
   "execution_count": null,
   "id": "grave-alignment",
   "metadata": {},
   "outputs": [],
   "source": [
    "gen_var_mapper = {}\n",
    "for var_old in ultimate_dic.keys():\n",
    "    if var_old == 'peak_date':\n",
    "        gen_var_mapper[var_old] = 'politypeakyears'\n",
    "        continue\n",
    "    elif var_old == 'ra':\n",
    "        gen_var_mapper[var_old] = 'polityresearchassistant'\n",
    "        continue\n",
    "    elif var_old == 'alternative_names':\n",
    "        gen_var_mapper[var_old] = 'polityalternativename'\n",
    "        continue\n",
    "    elif var_old == 'succeeding_(quasi)polity':\n",
    "        gen_var_mapper[var_old] = 'politysucceedingentity'\n",
    "        continue\n",
    "    elif var_old == 'preceeding_(quasi)polity':\n",
    "        gen_var_mapper[var_old] = 'politypreceedingentity'\n",
    "        continue\n",
    "    var_new = \"polity\" + var_old.replace(\"_\", \"\").replace(\"(\", \"\").replace(\")\", \"\").replace(\"-\", \"\")\n",
    "    gen_var_mapper[var_old] = var_new"
   ]
  },
  {
   "cell_type": "code",
   "execution_count": null,
   "id": "hundred-anxiety",
   "metadata": {},
   "outputs": [],
   "source": [
    "ultimate_dic.keys()"
   ]
  },
  {
   "cell_type": "code",
   "execution_count": null,
   "id": "greatest-damage",
   "metadata": {},
   "outputs": [],
   "source": [
    "def get_all_users_experts(pretty_ultimate_dic_clean):\n",
    "    # CREATE the PeOLPE (USER and EXPERTS) tables:\n",
    "    expert_mapper = {}\n",
    "    for var_name, var_df in pretty_ultimate_dic_clean.items():\n",
    "        if var_name in [\"ra\", \"editor\", \"expert\"]: \n",
    "            for index, item in var_df[\"values_df\"].iterrows():\n",
    "                if item[1] not in expert_mapper:\n",
    "                    expert_mapper[item[2]] = index + 1\n",
    "    return expert_mapper\n",
    "\n",
    "a_mapping = get_all_users_experts(pretty_ultimate_dic)"
   ]
  },
  {
   "cell_type": "code",
   "execution_count": null,
   "id": "killing-tender",
   "metadata": {},
   "outputs": [],
   "source": [
    "a_mapping"
   ]
  },
  {
   "cell_type": "code",
   "execution_count": null,
   "id": "meaningful-attention",
   "metadata": {},
   "outputs": [],
   "source": [
    "a = \"ali\""
   ]
  },
  {
   "cell_type": "code",
   "execution_count": null,
   "id": "colonial-vitamin",
   "metadata": {},
   "outputs": [],
   "source": [
    "b = a.split(\" \")"
   ]
  },
  {
   "cell_type": "code",
   "execution_count": null,
   "id": "respective-underground",
   "metadata": {},
   "outputs": [],
   "source": [
    "\n",
    "ALL_GENERAL_VARS_LIST =[\n",
    "    {\n",
    "    'varname': 'polityresearchassistant',\n",
    "    'cols': 1,\n",
    "    'needsSeshatCommon': True,\n",
    "    'db_name': \"general\", # Hier\n",
    "    'main_desc': \"The RA(s) who worked on a polity.\", # Hier\n",
    "    'section': \"General Variables\", # Hier\n",
    "    'subsection': \"Staff\", # Hier \n",
    "    },\n",
    "    {\n",
    "    'varname': 'polityutmzone',\n",
    "    'cols': 1,\n",
    "    'needsSeshatCommon': True,\n",
    "    'db_name': \"general\", # Hier\n",
    "    'main_desc': \"The UTM Zone of a polity.\", # Hier\n",
    "    'section': \"General Variables\", # Hier\n",
    "    'subsection': \"General\", # Hier \n",
    "    },\n",
    "    {\n",
    "    'varname': 'polityoriginalname',\n",
    "    'cols': 1,\n",
    "    'needsSeshatCommon': True,\n",
    "    'db_name': \"general\", # Hier\n",
    "    'main_desc': \"The original name of a polity.\", # Hier\n",
    "    'section': \"General Variables\", # Hier\n",
    "    'subsection': \"General\", # Hier \n",
    "    },\n",
    "    {\n",
    "    'varname': 'polityalternativename',\n",
    "    'cols': 1,\n",
    "    'needsSeshatCommon': True,\n",
    "    'db_name': \"general\", # Hier\n",
    "    'main_desc': \"The alternative name of a polity.\", # Hier\n",
    "    'section': \"General Variables\", # Hier\n",
    "    'subsection': \"General\", # Hier \n",
    "    },\n",
    "    {\n",
    "    'varname': 'politypeakyears',\n",
    "    'cols': 2,\n",
    "    'needsSeshatCommon': True,\n",
    "    'db_name': \"general\", # Hier\n",
    "    'main_desc': \"The alternative name of a polity.\", # Hier\n",
    "    'section': \"General Variables\", # Hier\n",
    "    'subsection': \"General\", # Hier \n",
    "    },\n",
    "    {\n",
    "    'varname': 'polityduration',\n",
    "    'cols': 2,\n",
    "    'needsSeshatCommon': True,\n",
    "    'db_name': \"general\", # Hier\n",
    "    'main_desc': \"The alternative name of a polity.\", # Hier\n",
    "    'section': \"General Variables\", # Hier\n",
    "    'subsection': \"General\", # Hier \n",
    "    },\n",
    "    {\n",
    "    'varname': 'politydegreeofcentralization',\n",
    "    'cols': 1,\n",
    "    'needsSeshatCommon': True,\n",
    "    'db_name': \"general\", # Hier\n",
    "    'main_desc': \"The degree of centralization of a polity.\", # Hier\n",
    "    'section': \"General Variables\", # Hier\n",
    "    'subsection': \"General\", # Hier \n",
    "    },\n",
    "    {\n",
    "    'varname': 'politysuprapolityrelations',\n",
    "    'cols': 1,\n",
    "    'needsSeshatCommon': True,\n",
    "    'db_name': \"general\", # Hier\n",
    "    'main_desc': \"The supra polity relations of a polity.\", # Hier\n",
    "    'section': \"General Variables\", # Hier\n",
    "    'subsection': \"General\", # Hier \n",
    "    },\n",
    "    {\n",
    "    'varname': 'politycapital',\n",
    "    'cols': 1,\n",
    "    'needsSeshatCommon': True,\n",
    "    'db_name': \"general\", # Hier\n",
    "    'main_desc': \"The capital or the largest settlement of a polity.\", # Hier\n",
    "    'section': \"General Variables\", # Hier\n",
    "    'subsection': \"General\", # Hier \n",
    "    },\n",
    "    {\n",
    "    'varname': 'politylanguage',\n",
    "    'cols': 1,\n",
    "    'needsSeshatCommon': True,\n",
    "    'db_name': \"general\", # Hier\n",
    "    'main_desc': \"The language or the largest settlement of a polity.\", # Hier\n",
    "    'section': \"General Variables\", # Hier\n",
    "    'subsection': \"General\", # Hier \n",
    "    },\n",
    "    {\n",
    "    'varname': 'politylinguisticfamily',\n",
    "    'cols': 1,\n",
    "    'needsSeshatCommon': True,\n",
    "    'db_name': \"general\", # Hier\n",
    "    'main_desc': \"The linguistic family of a polity.\", # Hier\n",
    "    'section': \"General Variables\", # Hier\n",
    "    'subsection': \"General\", # Hier \n",
    "    },\n",
    "    {\n",
    "    'varname': 'politylanguagegenus',\n",
    "    'cols': 1,\n",
    "    'needsSeshatCommon': True,\n",
    "    'db_name': \"general\", # Hier\n",
    "    'main_desc': \"The language genus of a polity.\", # Hier\n",
    "    'section': \"General Variables\", # Hier\n",
    "    'subsection': \"General\", # Hier \n",
    "    },\n",
    "    {\n",
    "    'varname': 'polityreligiongenus',\n",
    "    'cols': 1,\n",
    "    'needsSeshatCommon': True,\n",
    "    'db_name': \"general\", # Hier\n",
    "    'main_desc': \"The religion genus of a polity.\", # Hier\n",
    "    'section': \"General Variables\", # Hier\n",
    "    'subsection': \"General\", # Hier \n",
    "    },\n",
    "    {\n",
    "    'varname': 'polityreligionfamily',\n",
    "    'cols': 1,\n",
    "    'needsSeshatCommon': True,\n",
    "    'db_name': \"general\", # Hier\n",
    "    'main_desc': \"The religion family of a polity.\", # Hier\n",
    "    'section': \"General Variables\", # Hier\n",
    "    'subsection': \"General\", # Hier \n",
    "    },\n",
    "    {\n",
    "    'varname': 'polityreligion',\n",
    "    'cols': 1,\n",
    "    'needsSeshatCommon': True,\n",
    "    'db_name': \"general\", # Hier\n",
    "    'main_desc': \"The religion of a polity.\", # Hier\n",
    "    'section': \"General Variables\", # Hier\n",
    "    'subsection': \"General\", # Hier \n",
    "    },\n",
    "    {\n",
    "    'varname': 'polityrelationshiptoprecedingentity',\n",
    "    'cols': 1,\n",
    "    'needsSeshatCommon': True,\n",
    "    'db_name': \"general\", # Hier\n",
    "    'main_desc': \"The polity relationship to preceding (quasi)polity\", # Hier\n",
    "    'section': \"General Variables\", # Hier\n",
    "    'subsection': \"General\", # Hier \n",
    "    },\n",
    "    {\n",
    "    'varname': 'polityprecedingentity',\n",
    "    'cols': 1,\n",
    "    'needsSeshatCommon': True,\n",
    "    'db_name': \"general\", # Hier\n",
    "    'main_desc': \"The preceding entity of a polity.\", # Hier\n",
    "    'section': \"General Variables\", # Hier\n",
    "    'subsection': \"General\", # Hier \n",
    "    },\n",
    "    {\n",
    "    'varname': 'politysucceedingentity',\n",
    "    'cols': 1,\n",
    "    'needsSeshatCommon': True,\n",
    "    'db_name': \"general\", # Hier\n",
    "    'main_desc': \"The succeeding entity of a polity.\", # Hier\n",
    "    'section': \"General Variables\", # Hier\n",
    "    'subsection': \"General\", # Hier \n",
    "    },\n",
    "    {\n",
    "    'varname': 'politysupraculturalentity',\n",
    "    'cols': 1,\n",
    "    'needsSeshatCommon': True,\n",
    "    'db_name': \"general\", # Hier\n",
    "    'main_desc': \"The supracultural entity of a polity.\", # Hier\n",
    "    'section': \"General Variables\", # Hier\n",
    "    'subsection': \"General\", # Hier \n",
    "    },\n",
    "    {\n",
    "    'varname': 'polityscaleofsupraculturalinteraction',\n",
    "    'cols': 2,\n",
    "    'needsSeshatCommon': True,\n",
    "    'db_name': \"general\", # Hier\n",
    "    'main_desc': \"The scale_of_supra_cultural_interaction of a polity.\", # Hier\n",
    "    'section': \"General Variables\", # Hier\n",
    "    'subsection': \"General\", # Hier \n",
    "    },\n",
    "    {\n",
    "    'varname': 'polityalternatereligiongenus',\n",
    "    'cols': 1,\n",
    "    'needsSeshatCommon': True,\n",
    "    'db_name': \"general\", # Hier\n",
    "    'main_desc': \"The alternate religion genus of a polity.\", # Hier\n",
    "    'section': \"General Variables\", # Hier\n",
    "    'subsection': \"General\", # Hier \n",
    "    },\n",
    "    {\n",
    "    'varname': 'polityalternatereligionfamily',\n",
    "    'cols': 1,\n",
    "    'needsSeshatCommon': True,\n",
    "    'db_name': \"general\", # Hier\n",
    "    'main_desc': \"The alternate religion family of a polity.\", # Hier\n",
    "    'section': \"General Variables\", # Hier\n",
    "    'subsection': \"General\", # Hier \n",
    "    },\n",
    "    {\n",
    "    'varname': 'polityalternatereligion',\n",
    "    'cols': 1,\n",
    "    'needsSeshatCommon': True,\n",
    "    'db_name': \"general\", # Hier\n",
    "    'main_desc': \"The alternate religion  of a polity.\", # Hier\n",
    "    'section': \"General Variables\", # Hier\n",
    "    'subsection': \"General\", # Hier \n",
    "    },\n",
    "    {\n",
    "    'varname': 'polityexpert',\n",
    "    'cols': 1,\n",
    "    'needsSeshatCommon': True,\n",
    "    'db_name': \"general\", # Hier\n",
    "    'main_desc': \"The expert of a polity.\", # Hier\n",
    "    'section': \"General Variables\", # Hier\n",
    "    'subsection': \"General\", # Hier \n",
    "    },\n",
    "    {\n",
    "    'varname': 'polityeditor',\n",
    "    'cols': 1,\n",
    "    'needsSeshatCommon': True,\n",
    "    'db_name': \"general\", # Hier\n",
    "    'main_desc': \"The editor of a polity.\", # Hier\n",
    "    'section': \"General Variables\", # Hier\n",
    "    'subsection': \"General\", # Hier \n",
    "    },\n",
    "    {\n",
    "    'varname': 'polityreligioustradition',\n",
    "    'cols': 1,\n",
    "    'needsSeshatCommon': True,\n",
    "    'db_name': \"general\", # Hier\n",
    "    'main_desc': \"The details of religious traditions.\", # Hier\n",
    "    'section': \"General Variables\", # Hier\n",
    "    'subsection': \"General\", # Hier \n",
    "    }\n",
    "]\n",
    "\n",
    "\n",
    "ALL_GENERAL_COLS_LIST =[\n",
    "{\n",
    "    'colname': \"polity_ra\",\n",
    "    'dtype': MYFOREIGN,\n",
    "    'varname': 'polityresearchassistant', # key\n",
    "    'col_exp': \"The RA of a polity.\",\n",
    "    'foreign_key': \"SeshatExpert\",\n",
    "    'foreign_key_related_name': \"seshat_research_assistant\",\n",
    "    },\n",
    "    {\n",
    "    'colname': \"utm_zone\",\n",
    "    'dtype': MYTXT,\n",
    "    'varname': 'polityutmzone', # key\n",
    "    'col_exp': \"The details of UTM_ZONE.\",\n",
    "    'max_digits': 5,\n",
    "    'null_meaning': \"No_Value_Provided_in_Old_Wiki\"\n",
    "    },\n",
    "    {\n",
    "    'colname': \"original_name\",\n",
    "    'dtype': MYTXT,\n",
    "    'varname': 'polityoriginalname', # key\n",
    "    'col_exp': \"The details of original_name.\",\n",
    "    'max_digits': 100,\n",
    "    'null_meaning': \"No_Value_Provided_in_Old_Wiki\"\n",
    "    },\n",
    "    {\n",
    "    'colname': \"alternative_name\",\n",
    "    'dtype': MYTXT,\n",
    "    'varname': 'polityalternativename', # key\n",
    "    'col_exp': \"The details of alternative_name.\",\n",
    "    'max_digits': 100,\n",
    "    'null_meaning': \"No_Value_Provided_in_Old_Wiki\"\n",
    "    },\n",
    "    {\n",
    "    'colname': \"peak_year_from\",\n",
    "    'dtype': MYINT,\n",
    "    'varname': 'politypeakyears', # key\n",
    "    'col_exp': \"The beginning of the peak year for a polity.\",\n",
    "    'null_meaning': \"No_Value_Provided_in_Old_Wiki\"\n",
    "    },\n",
    "    {\n",
    "    'colname': \"peak_year_to\",\n",
    "    'dtype': MYINT,\n",
    "    'varname': 'politypeakyears', # key\n",
    "    'col_exp':  \"The end of the peak year for a polity.\",\n",
    "    'null_meaning': \"No_Value_Provided_in_Old_Wiki\"\n",
    "    },\n",
    "    {\n",
    "    'colname': \"polity_year_from\",\n",
    "    'dtype': MYINT,\n",
    "    'varname': 'polityduration', # key\n",
    "    'col_exp': \"The beginning year for a polity.\",\n",
    "    'null_meaning': \"No_Value_Provided_in_Old_Wiki\"\n",
    "    },\n",
    "    {\n",
    "    'colname': \"polity_year_to\",\n",
    "    'dtype': MYINT,\n",
    "    'varname': 'polityduration', # key\n",
    "    'col_exp':  \"The end year for a polity.\",\n",
    "    'null_meaning': \"No_Value_Provided_in_Old_Wiki\"\n",
    "    },\n",
    "    {\n",
    "    'colname': \"degree_of_centralization\",\n",
    "    'dtype': MYTXT_CH,\n",
    "    'varname': 'politydegreeofcentralization', # key\n",
    "    'col_exp': \"The details of degree_of_centralization.\",\n",
    "    'max_digits': 50,\n",
    "    'choices': tuple_choices_maker_2(degree_of_centralization_CHOICES, \"degree_of_centralization\")[0],\n",
    "    'null_meaning': \"No_Value_Provided_in_Old_Wiki\"\n",
    "    },\n",
    "    {\n",
    "    'colname': \"supra_polity_relations\",\n",
    "    'dtype': MYTXT_CH,\n",
    "    'varname': 'politysuprapolityrelations', # key\n",
    "    'col_exp': \"The details of supra polity relations.\",\n",
    "    'max_digits': 50,\n",
    "    'choices': tuple_choices_maker_2(supra_polity_relations_CHOICES, \"supra_polity_relations\")[0],\n",
    "    'null_meaning': \"No_Value_Provided_in_Old_Wiki\"\n",
    "    },\n",
    "    {\n",
    "    'colname': \"capital\",\n",
    "    'dtype': MYTXT,\n",
    "    'varname': 'politycapital', # key\n",
    "    'col_exp': \"The capital or the largest settlement of a polity.\",\n",
    "    'max_digits': 70,\n",
    "    'null_meaning': \"This polity did not have a capital or the largest settlement.\"\n",
    "    },\n",
    "    {\n",
    "    'colname': \"language\",\n",
    "    'dtype': MYTXT_CH,\n",
    "    'varname': 'politylanguage', # key\n",
    "    'col_exp': \"The language of a polity.\",\n",
    "    'max_digits': 70,\n",
    "    'choices': tuple_choices_maker_2(language_CHOICES, \"language\")[0],\n",
    "    'null_meaning': \"This polity did not have a language.\"\n",
    "    },\n",
    "    {\n",
    "    'colname': \"linguistic_family\",\n",
    "    'dtype': MYTXT_CH,\n",
    "    'varname': 'politylinguisticfamily', # key\n",
    "    'col_exp': \"The linguistic family of a polity.\",\n",
    "    'max_digits': 70,\n",
    "    'choices': tuple_choices_maker_2(linguistic_family_CHOICES, \"linguistic_family\")[0],\n",
    "    'null_meaning': \"This polity did not have a linguistic family.\"\n",
    "    },\n",
    "    {\n",
    "    'colname': \"language_genus\",\n",
    "    'dtype': MYTXT_CH,\n",
    "    'varname': 'politylanguagegenus', # key\n",
    "    'col_exp': \"The language genus of a polity.\",\n",
    "    'max_digits': 70,\n",
    "    'choices': tuple_choices_maker_2(linguistic_family_CHOICES, \"linguistic_family\")[0],\n",
    "    'null_meaning': \"This polity did not have a language Genus.\"\n",
    "    },\n",
    "    {\n",
    "    'colname': \"religion_genus\",\n",
    "    'dtype': MYTXT_CH,\n",
    "    'varname': 'polityreligiongenus', # key\n",
    "    'col_exp': \"The religion genus of a polity.\",\n",
    "    'max_digits': 70,\n",
    "    'choices': tuple_choices_maker_2(religion_genus_CHOICES, \"religion_genus\")[0],\n",
    "    'null_meaning': \"This polity did not have a religion genus.\"\n",
    "    },\n",
    "    {\n",
    "    'colname': \"religion_family\",\n",
    "    'dtype': MYTXT_CH,\n",
    "    'varname': 'polityreligionfamily', # key\n",
    "    'col_exp': \"The religion family of a polity.\",\n",
    "    'max_digits': 70,\n",
    "    'choices': tuple_choices_maker_2(religion_family_CHOICES, \"religion_family\")[0],\n",
    "    'null_meaning': \"This polity did not have a religion family.\"\n",
    "    },\n",
    "    {\n",
    "    'colname': \"religion\",\n",
    "    'dtype': MYTXT_CH,\n",
    "    'varname': 'polityreligion', # key\n",
    "    'col_exp': \"The religion of a polity.\",\n",
    "    'max_digits': 70,\n",
    "    'choices': tuple_choices_maker_2(religion_CHOICES, \"religion\")[0],\n",
    "    'null_meaning': \"This polity did not have a religion.\"\n",
    "    },\n",
    "    {\n",
    "    'colname': \"relationship_to_preceding_entity\",\n",
    "    'dtype': MYTXT_CH,\n",
    "    'varname': 'polityrelationshiptoprecedingentity', # key\n",
    "    'col_exp': \"The polity relationship to preceding (quasi)polity\",\n",
    "    'max_digits': 70,\n",
    "    'choices': tuple_choices_maker_2(relationship_to_preceding_entity_CHOICES, \"relationship_to_preceding_entity\")[0],\n",
    "    'null_meaning': \"This polity did not have a relationship to preceding (quasi)polity\"\n",
    "    },\n",
    "    {\n",
    "    'colname': \"preceding_entity\",\n",
    "    'dtype': MYTXT,\n",
    "    'varname': 'polityprecedingentity', # key\n",
    "    'col_exp': \"The preceding entity or the largest settlement of a polity.\",\n",
    "    'max_digits': 70,\n",
    "    'null_meaning': \"This polity did not have a preceding entity.\"\n",
    "    },\n",
    "    {'colname': \"succeeding_entity\",\n",
    "    'dtype': MYTXT,\n",
    "    'varname': 'politysucceedingentity', # key\n",
    "    'col_exp': \"The succeeding entity or the largest settlement of a polity.\",\n",
    "    'max_digits': 70,\n",
    "    'null_meaning': \"This polity did not have a succeeding entity.\"\n",
    "    },\n",
    "    {\n",
    "    'colname': \"supracultural_entity\",\n",
    "    'dtype': MYTXT,\n",
    "    'varname': 'politysupraculturalentity', # key\n",
    "    'col_exp': \"The supracultural entity or the largest settlement of a polity.\",\n",
    "    'max_digits': 100,\n",
    "    'null_meaning': \"This polity did not have a supracultural entity.\"\n",
    "    },\n",
    "    {\n",
    "    'colname': \"scale_from\",\n",
    "    'dtype': MYINT,\n",
    "    'varname': 'polityscaleofsupraculturalinteraction', # key\n",
    "    'col_exp': \"The lower scale of supra cultural interactionfor a polity.\",\n",
    "    'units': \"km squared\",\n",
    "    'min': 0,\n",
    "    'null_meaning': \"No_Value_Provided_in_Old_Wiki\"\n",
    "    },\n",
    "    {\n",
    "    'colname': \"scale_to\",\n",
    "    'dtype': MYINT,\n",
    "    'varname': 'polityscaleofsupraculturalinteraction', # key\n",
    "    'col_exp':  \"The upper scale of supra cultural interactionfor a polity.\",\n",
    "    'units': \"km squared\",\n",
    "    'min': 0,\n",
    "    'null_meaning': \"No_Value_Provided_in_Old_Wiki\"\n",
    "    },\n",
    "    {\n",
    "    'colname': \"alternate_religion_genus\",\n",
    "    'dtype': MYTXT_CH,\n",
    "    'varname': 'polityalternatereligiongenus', # key\n",
    "    'col_exp': \"The alternate religion genus of a polity.\",\n",
    "    'max_digits': 70,\n",
    "    'choices': tuple_choices_maker_2(religion_genus_CHOICES, \"religion_genus\")[0],\n",
    "    'null_meaning': \"This polity did not have a alternatereligion genus.\"\n",
    "    },\n",
    "    {\n",
    "    'colname': \"alternate_religion_family\",\n",
    "    'dtype': MYTXT_CH,\n",
    "    'varname': 'polityalternatereligionfamily', # key\n",
    "    'col_exp': \"The alternate religion family of a polity.\",\n",
    "    'max_digits': 70,\n",
    "    'choices': tuple_choices_maker_2(religion_family_CHOICES, \"religion_family\")[0],\n",
    "    'null_meaning': \"This polity did not have a alternate religion family.\"\n",
    "    },\n",
    "    {\n",
    "    'colname': \"alternate_religion\",\n",
    "    'dtype': MYTXT_CH,\n",
    "    'varname': 'polityalternatereligion', # key\n",
    "    'col_exp': \"The alternate religion of a polity.\",\n",
    "    'max_digits': 70,\n",
    "    'choices': tuple_choices_maker_2(religion_CHOICES, \"religion\")[0],\n",
    "    'null_meaning': \"This polity did not have a alternate religion .\"\n",
    "    },\n",
    "    {\n",
    "    'colname': \"expert\",\n",
    "    'dtype': MYFOREIGN,\n",
    "    'varname': 'polityexpert', # key\n",
    "    'col_exp': \"The expert of a polity.\",\n",
    "    'foreign_key': \"SeshatExpert\",\n",
    "    'foreign_key_related_name': \"seshat_expert\",\n",
    "    'null_meaning': \"This polity did not have an expert.\"\n",
    "    },\n",
    "    {\n",
    "    'colname': \"editor\",\n",
    "    'dtype': MYFOREIGN,\n",
    "    'varname': 'polityeditor', # key\n",
    "    'col_exp': \"The editor of a polity.\",\n",
    "    'foreign_key': \"SeshatExpert\",\n",
    "    'foreign_key_related_name': \"seshat_editor\",\n",
    "    'null_meaning': \"This polity did not have an editor.\"\n",
    "    },\n",
    "    {\n",
    "    'colname': \"religious_tradition\",\n",
    "    'dtype': MYTXT,\n",
    "    'varname': 'polityreligioustradition', # key\n",
    "    'col_exp': \"The details of religious traditions.\",\n",
    "    'max_digits': 100,\n",
    "    'null_meaning': \"No_Value_Provided_in_Old_Wiki\"\n",
    "    }\n",
    "]\n"
   ]
  },
  {
   "cell_type": "code",
   "execution_count": null,
   "id": "civilian-chemistry",
   "metadata": {},
   "outputs": [],
   "source": [
    "def convert_two_python_dics_to_python_vars_dic(list_of_dic_vars, list_of_dic_cols, my_db_name=\"general\"):\n",
    "    vars_dic_output = {}\n",
    "    for v_name in list_of_dic_vars:\n",
    "        # create a ,ain_ dic with all the avialable var items:\n",
    "        v_top_dic = {}\n",
    "        col_counter = 1\n",
    "        for v_top_key, v_top_val in v_name.items():\n",
    "            v_top_dic[v_top_key] = v_top_val\n",
    "        for c_name in list_of_dic_cols:\n",
    "            if v_name[\"varname\"] == c_name[\"varname\"]:\n",
    "                good_key = \"col\" + str(col_counter)\n",
    "                v_top_dic[good_key] = c_name\n",
    "                col_counter = col_counter + 1\n",
    "        vars_dic_output[v_name[\"varname\"]] = v_top_dic\n",
    "\n",
    "    return vars_dic_output"
   ]
  },
  {
   "cell_type": "code",
   "execution_count": null,
   "id": "continued-maple",
   "metadata": {},
   "outputs": [],
   "source": [
    "aaaaaa = convert_two_python_dics_to_python_vars_dic(ALL_GENERAL_VARS_LIST, ALL_GENERAL_COLS_LIST)"
   ]
  },
  {
   "cell_type": "code",
   "execution_count": null,
   "id": "speaking-license",
   "metadata": {
    "scrolled": true
   },
   "outputs": [],
   "source": [
    "input_str = \"5,677\"\n",
    "a_str = \":\"\n",
    "stripped_str = input_str.replace(\",\", \"\").strip()\n",
    "my_catches = re.findall(fr'[\\[]{{0,1}}[ ]{{0,1}}(\\d+)[ ]{{0,1}}[-|_| ]{{0,1}}[ ]{{0,1}}([\\d+]*)[ ]{{0,1}}[\\]]{{0,1}}[ ]{{0,1}}[{a_str}]{{0,1}}(.*)', stripped_str)"
   ]
  },
  {
   "cell_type": "markdown",
   "id": "liquid-olive",
   "metadata": {},
   "source": [
    "----"
   ]
  },
  {
   "cell_type": "code",
   "execution_count": null,
   "id": "southeast-tutorial",
   "metadata": {},
   "outputs": [],
   "source": [
    "print(f\"{'12345':,}\")"
   ]
  },
  {
   "cell_type": "code",
   "execution_count": null,
   "id": "still-season",
   "metadata": {},
   "outputs": [],
   "source": []
  },
  {
   "cell_type": "code",
   "execution_count": null,
   "id": "threatened-ontario",
   "metadata": {},
   "outputs": [],
   "source": [
    "csv_df = pd.read_csv(\"referencess_AWS.csv\", delimiter=\"|\")\n",
    "refs_aws = []\n",
    "for index, row in enumerate(csv_df.iterrows()):\n",
    "    refs_aws.append(row[1]['zotero_link'])\n",
    "    \n",
    "csv_df = pd.read_csv(\"referencess_local.csv\", delimiter=\"|\")\n",
    "refs_local = []\n",
    "for index, row in enumerate(csv_df.iterrows()):\n",
    "    refs_local.append(row[1]['zotero_link'])"
   ]
  },
  {
   "cell_type": "code",
   "execution_count": null,
   "id": "ruled-commission",
   "metadata": {},
   "outputs": [],
   "source": [
    "refs_aws"
   ]
  },
  {
   "cell_type": "code",
   "execution_count": null,
   "id": "animated-store",
   "metadata": {},
   "outputs": [],
   "source": [
    "with open(\"Seshat_Databank_jan_23.json\") as json_zotero:\n",
    "    json_zotero_data_list = json.load(json_zotero)\n",
    "for zot_data in json_zotero_data_list:\n",
    "    if zot_data.get(\"id\").split(\"/\")[-1] not in refs_aws:\n",
    "        print(zot_data.get(\"id\").split(\"/\")[-1], \": \", zot_data.get(\"title\"))"
   ]
  },
  {
   "cell_type": "code",
   "execution_count": null,
   "id": "alien-residence",
   "metadata": {},
   "outputs": [],
   "source": [
    "with open(\"Seshat_Databank_jan_23.json\") as json_zotero:\n",
    "    json_zotero_data_list = json.load(json_zotero)\n",
    "for zot_data in json_zotero_data_list:\n",
    "    if zot_data.get(\"id\").split(\"/\")[-1] not in refs_local:\n",
    "        print(zot_data.get(\"id\").split(\"/\")[-1], \": \", zot_data.get(\"title\"))"
   ]
  },
  {
   "cell_type": "code",
   "execution_count": null,
   "id": "temporal-fault",
   "metadata": {},
   "outputs": [],
   "source": []
  },
  {
   "cell_type": "code",
   "execution_count": null,
   "id": "incident-barrel",
   "metadata": {},
   "outputs": [],
   "source": [
    "hs_csv_df = pd.read_csv(\"human_sacrifices_download.csv\")\n",
    "hs_mapper_list = []\n",
    "for index, row in enumerate(hs_csv_df.iterrows()):\n",
    "    hs_mapper_list.append(row[1]['polity_old_ID'])"
   ]
  },
  {
   "cell_type": "code",
   "execution_count": null,
   "id": "dominant-planet",
   "metadata": {},
   "outputs": [],
   "source": [
    "if 0:\n",
    "    print(\"Zero\")\n",
    "else:\n",
    "    print(\"OOOps\")"
   ]
  },
  {
   "cell_type": "code",
   "execution_count": null,
   "id": "adopted-health",
   "metadata": {},
   "outputs": [],
   "source": [
    "polity_csv_df = pd.read_csv(\"./CSV_AWS/\" +\"my_politys.csv\")\n",
    "polity_mapper_dic = {}\n",
    "for index, row in enumerate(polity_csv_df.iterrows()):\n",
    "    polity_mapper_dic[row[1]['id']] = row[1]['name']"
   ]
  },
  {
   "cell_type": "code",
   "execution_count": null,
   "id": "crucial-stocks",
   "metadata": {},
   "outputs": [],
   "source": [
    "polity_mapper_dic"
   ]
  },
  {
   "cell_type": "code",
   "execution_count": null,
   "id": "accepting-sheet",
   "metadata": {},
   "outputs": [],
   "source": [
    "with open('hs_latest_insertion_AWS.sql') as f:\n",
    "    lines = f.readlines()"
   ]
  },
  {
   "cell_type": "code",
   "execution_count": null,
   "id": "arabic-studio",
   "metadata": {},
   "outputs": [],
   "source": [
    "count = 1\n",
    "pol_ids = []\n",
    "pol_names = []\n",
    "for line in lines:\n",
    "    the_pol_id = line.split(\"(\")[2].split(\",\")[0]\n",
    "    pol_name = polity_mapper_dic[int(the_pol_id)]\n",
    "    pol_ids.append(the_pol_id)\n",
    "    pol_names.append(pol_name)\n",
    "    count += 1"
   ]
  },
  {
   "cell_type": "code",
   "execution_count": null,
   "id": "ceramic-toner",
   "metadata": {},
   "outputs": [],
   "source": [
    "for pol_name in pol_names:\n",
    "    if pol_name not in hs_mapper_list:\n",
    "        print(pol_name)"
   ]
  },
  {
   "cell_type": "code",
   "execution_count": null,
   "id": "bizarre-subsection",
   "metadata": {},
   "outputs": [],
   "source": [
    "def fix_hs(selected_lines):    \n",
    "    with open(root_dir + \"/hs_fixed_local.sql\", \"w\") as gen_var_sql_file:\n",
    "        all_rows_with_var_sql = []\n",
    "        for index, line in enumerate(selected_lines):\n",
    "            a_row = f\"INSERT INTO crisisdb_human_sacrifice (id, first_name, last_name, username, email, password, is_superuser, is_staff, is_active, date_joined) VALUES ({user_id}, '{first_name}', '{last_name}', '{first_name}_{last_name}', '{first_name}@{last_name}.com', 'aliyaret_khoda_behamrahet', 'false', 'true', 'false', '2022-10-31 19:10:20.735+01');\"\n",
    "            all_rows_with_var_sql.append(a_row)\n",
    "\n",
    "        gen_var_sql_file.write(\"\\n\".join(all_rows_with_var_sql))\n",
    "        print(f\"{len(all_rows_with_var_sql)} sql insertion rows added to: users_experts.sql\")"
   ]
  },
  {
   "cell_type": "code",
   "execution_count": null,
   "id": "plastic-operator",
   "metadata": {},
   "outputs": [],
   "source": []
  },
  {
   "cell_type": "code",
   "execution_count": null,
   "id": "deadly-roman",
   "metadata": {},
   "outputs": [],
   "source": []
  },
  {
   "cell_type": "code",
   "execution_count": null,
   "id": "aboriginal-louis",
   "metadata": {},
   "outputs": [],
   "source": []
  },
  {
   "cell_type": "code",
   "execution_count": null,
   "id": "expected-expansion",
   "metadata": {},
   "outputs": [],
   "source": []
  },
  {
   "cell_type": "markdown",
   "id": "immune-affect",
   "metadata": {},
   "source": [
    "# TODO:\n",
    "\n",
    "- start from `ultimate_dic_without_duplicates_BACKUP_FRIDAY_JAN_6th` and make sure that all the zoteroID keys have a list of several items as the value.\n",
    "- make sure that all the zoteros chosen are proper ones: for example check if the author is too short or if the author does not fit our chosen text\n",
    "- then get all the refs that are still to get a proper zoter and see if you can improve the code to find more zoteros for the remianing ones.\n",
    "- If the above is not fruitful, start making a final dictionary with the extra values out and the real meat (zotero codes + key, etc) in. "
   ]
  },
  {
   "cell_type": "code",
   "execution_count": null,
   "id": "satellite-teddy",
   "metadata": {},
   "outputs": [],
   "source": [
    "from main_scraper import *\n",
    "from z_helpers import *\n",
    "import time"
   ]
  },
  {
   "cell_type": "code",
   "execution_count": null,
   "id": "described-slovenia",
   "metadata": {},
   "outputs": [],
   "source": [
    "10+12"
   ]
  },
  {
   "cell_type": "code",
   "execution_count": null,
   "id": "expanded-image",
   "metadata": {},
   "outputs": [],
   "source": [
    "#all_unique_refs_with_reps = ultimate_ref_dic_maker_duplicate_finder()"
   ]
  },
  {
   "cell_type": "code",
   "execution_count": null,
   "id": "emotional-policy",
   "metadata": {
    "scrolled": true
   },
   "outputs": [],
   "source": [
    "start_time = time.time()\n",
    "\n",
    "#my_ult_ref_dic, my_ult_meta_data = ultimate_ref_dic_maker(\"mother_dic_for_refs.json\")\n",
    "my_ult_ref_dic, my_ult_metadata = ultimate_ref_dic_maker_plus(\"mother_dic_with_duplicates.json\")\n",
    "\n",
    "print(\"--- %s seconds ---\" % (time.time() - start_time))"
   ]
  },
  {
   "cell_type": "code",
   "execution_count": null,
   "id": "occasional-final",
   "metadata": {},
   "outputs": [],
   "source": [
    "my_ult_metadata"
   ]
  },
  {
   "cell_type": "code",
   "execution_count": null,
   "id": "literary-witch",
   "metadata": {},
   "outputs": [],
   "source": [
    "my_ult_ref_dic['MAJIDBENAM_REF_10_AfDurrn']"
   ]
  },
  {
   "cell_type": "code",
   "execution_count": null,
   "id": "hindu-advantage",
   "metadata": {},
   "outputs": [],
   "source": [
    "# this creates a new trimmed dic that needs to be merged with an ultimate dic:\n",
    "go_find_zoteros(\"ultimate_dic_without_duplicates_TEST.json\")"
   ]
  },
  {
   "cell_type": "code",
   "execution_count": null,
   "id": "prerequisite-ottawa",
   "metadata": {},
   "outputs": [],
   "source": [
    "x, meta_x = merge_trimmed_data_and_create_a_new_ultimate_dic(\"trimmed_dic_UPDATED_to_be_merged.json\", \"ultimate_dic_without_duplicates.json\")"
   ]
  },
  {
   "cell_type": "code",
   "execution_count": null,
   "id": "nominated-delight",
   "metadata": {},
   "outputs": [],
   "source": [
    "meta_x"
   ]
  },
  {
   "cell_type": "code",
   "execution_count": null,
   "id": "boxed-gardening",
   "metadata": {},
   "outputs": [],
   "source": [
    "a_dic = {\n",
    "    \"Id\": [],\n",
    "}\n",
    "a_dic[\"Id\"] = [\"aliii\",]"
   ]
  },
  {
   "cell_type": "code",
   "execution_count": null,
   "id": "retained-husband",
   "metadata": {},
   "outputs": [],
   "source": [
    "a_dic"
   ]
  },
  {
   "cell_type": "code",
   "execution_count": null,
   "id": "charitable-distributor",
   "metadata": {},
   "outputs": [],
   "source": []
  },
  {
   "cell_type": "code",
   "execution_count": null,
   "id": "revised-estonia",
   "metadata": {},
   "outputs": [],
   "source": [
    "# second round\n",
    "go_find_zoteros_round_2(\"ultimate_dic_without_duplicates.json\")"
   ]
  },
  {
   "cell_type": "code",
   "execution_count": null,
   "id": "proprietary-undergraduate",
   "metadata": {},
   "outputs": [],
   "source": [
    "x, meta_x = merge_trimmed_data_and_create_a_new_ultimate_dic(\"trimmed_dic_UPDATED_to_be_merged.json\", \"ultimate_dic_without_duplicates.json\")"
   ]
  },
  {
   "cell_type": "code",
   "execution_count": null,
   "id": "regulation-renewal",
   "metadata": {
    "scrolled": true
   },
   "outputs": [],
   "source": [
    "meta_x"
   ]
  },
  {
   "cell_type": "code",
   "execution_count": null,
   "id": "marked-christopher",
   "metadata": {},
   "outputs": [],
   "source": [
    "go_find_zoteros_round_3(\"ultimate_dic_without_duplicates.json\")"
   ]
  },
  {
   "cell_type": "code",
   "execution_count": null,
   "id": "operational-november",
   "metadata": {},
   "outputs": [],
   "source": [
    "x, meta_x = merge_trimmed_data_and_create_a_new_ultimate_dic(\"trimmed_dic_UPDATED_to_be_merged.json\", \"ultimate_dic_without_duplicates.json\")"
   ]
  },
  {
   "cell_type": "code",
   "execution_count": null,
   "id": "israeli-aviation",
   "metadata": {},
   "outputs": [],
   "source": [
    "meta_x"
   ]
  },
  {
   "cell_type": "code",
   "execution_count": null,
   "id": "continent-isolation",
   "metadata": {},
   "outputs": [],
   "source": [
    "x[\"MAJIDBENAM_REF_24_AfDurrn\"]"
   ]
  },
  {
   "cell_type": "code",
   "execution_count": null,
   "id": "double-catch",
   "metadata": {},
   "outputs": [],
   "source": []
  },
  {
   "cell_type": "code",
   "execution_count": null,
   "id": "leading-complaint",
   "metadata": {},
   "outputs": [],
   "source": [
    "unique_trimmed_refs_needing_work = []\n",
    "for kk, vv in x.items():\n",
    "    if not vv[\"zoteroID\"] and not vv[\"hasPersonalComment\"] and vv[\"trimmedText\"] and vv[\"trimmedText\"] not in unique_trimmed_refs_needing_work:\n",
    "        unique_trimmed_refs_needing_work.append(vv[\"trimmedText\"])"
   ]
  },
  {
   "cell_type": "code",
   "execution_count": null,
   "id": "little-royalty",
   "metadata": {},
   "outputs": [],
   "source": [
    "len(unique_trimmed_refs_needing_work)"
   ]
  },
  {
   "cell_type": "code",
   "execution_count": null,
   "id": "wanted-serum",
   "metadata": {},
   "outputs": [],
   "source": [
    "for i in unique_trimmed_refs_needing_work[:12]:\n",
    "    print(i)\n",
    "    print(\"______\")\n"
   ]
  },
  {
   "cell_type": "code",
   "execution_count": null,
   "id": "technical-settle",
   "metadata": {},
   "outputs": [],
   "source": [
    "\"\"\"\n",
    "ROUND 1:\n",
    "{'No_of_Unique_Refs': 28732,\n",
    " 'No_of_Unique_trimmed_Refs': 17245,\n",
    " 'No_of_Unique_trimmed_Refs_needing_work': 11170}\n",
    "\"\"\""
   ]
  },
  {
   "cell_type": "code",
   "execution_count": null,
   "id": "fresh-search",
   "metadata": {},
   "outputs": [],
   "source": []
  },
  {
   "cell_type": "code",
   "execution_count": null,
   "id": "geological-attention",
   "metadata": {},
   "outputs": [],
   "source": []
  },
  {
   "cell_type": "code",
   "execution_count": null,
   "id": "architectural-cream",
   "metadata": {},
   "outputs": [],
   "source": [
    "import pprint\n",
    "bad_boys = []\n",
    "for k, v in x.items():\n",
    "    if not v.get(\"zoteroID\"):\n",
    "        bad_boys.append(v)\n",
    "        if len(bad_boys) >= 10:\n",
    "            break"
   ]
  },
  {
   "cell_type": "code",
   "execution_count": null,
   "id": "liberal-target",
   "metadata": {},
   "outputs": [],
   "source": [
    "bad_boys[7]"
   ]
  },
  {
   "cell_type": "code",
   "execution_count": null,
   "id": "southeast-manhattan",
   "metadata": {},
   "outputs": [],
   "source": [
    "x['MAJIDBENAM_REF_1_AfDurrn']"
   ]
  },
  {
   "cell_type": "code",
   "execution_count": null,
   "id": "agreed-tucson",
   "metadata": {},
   "outputs": [],
   "source": [
    "\"ali yaret\".split(\";\")"
   ]
  },
  {
   "cell_type": "code",
   "execution_count": null,
   "id": "familiar-forestry",
   "metadata": {},
   "outputs": [],
   "source": [
    "my_ult_metadata"
   ]
  },
  {
   "cell_type": "code",
   "execution_count": null,
   "id": "common-produce",
   "metadata": {},
   "outputs": [],
   "source": [
    "with open(\"ultimate_dic_without_duplicates_BACKUP_FRIDAY_JAN_6th.json\") as my_f:\n",
    "    friday_data = json.load(my_f)\n"
   ]
  },
  {
   "cell_type": "code",
   "execution_count": null,
   "id": "lightweight-grenada",
   "metadata": {},
   "outputs": [],
   "source": [
    "all_semicolons = 0\n",
    "for key, value in friday_data.items():\n",
    "    raw_value_0 = value[\"trimmedText\"]\n",
    "    raw_value = raw_value_0.replace(\"&amp;\", \" \").replace(\"&nbsp;\", \" \")\n",
    "    num_part_obj = re.search('(\\d{4})', raw_value)\n",
    "    if \";\" in raw_value and (\n",
    "        \"an updated version is available online at\" not in raw_value) and (\n",
    "        \"for a brief look at the decline\" not in raw_value):\n",
    "        raw_value_split = raw_value.split(\";\")\n",
    "        pot_good = True\n",
    "        for a_pot in raw_value_split:\n",
    "            num_part_obj = re.search('(\\d{4})', a_pot)\n",
    "            if not num_part_obj:\n",
    "                pot_good = False\n",
    "                break\n",
    "            elif int(num_part_obj.group(1)) >= 2023 or int(num_part_obj.group(1)) <= 1500:\n",
    "                pot_good = False\n",
    "                break\n",
    "        if pot_good:\n",
    "            if all_semicolons <= 40:\n",
    "                print(key)\n",
    "                for aa in raw_value_split:\n",
    "                    print(\"* \", aa.strip())\n",
    "                print(\"____\")\n",
    "            all_semicolons += 1\n",
    "\n",
    "print(all_semicolons)"
   ]
  },
  {
   "cell_type": "code",
   "execution_count": null,
   "id": "continued-liver",
   "metadata": {},
   "outputs": [],
   "source": [
    "all_variants = []\n",
    "for key, value in friday_data.items():\n",
    "    raw_value = value[\"zoteroID\"]\n",
    "    type_ID = type(raw_value)\n",
    "    len_ID = len(raw_value)\n",
    "    if len_ID > 0:\n",
    "        inner_length = len(raw_value[0])\n",
    "    else:\n",
    "        inner_length = 0\n",
    "    a_tuple = (len_ID, type_ID, inner_length)\n",
    "    if inner_length >= 15:\n",
    "        print(key, \":\", value[\"trimmedText\"],raw_value)\n",
    "    if a_tuple not in all_variants:\n",
    "        all_variants.append(a_tuple)\n",
    "\n",
    "print(all_variants)"
   ]
  },
  {
   "cell_type": "code",
   "execution_count": null,
   "id": "arranged-public",
   "metadata": {},
   "outputs": [],
   "source": []
  },
  {
   "cell_type": "code",
   "execution_count": null,
   "id": "negative-armenia",
   "metadata": {},
   "outputs": [],
   "source": [
    "len(my_ult_ref_dic)"
   ]
  },
  {
   "cell_type": "code",
   "execution_count": null,
   "id": "modern-gravity",
   "metadata": {},
   "outputs": [],
   "source": [
    "with open(\"Seshat_Databank_Dec_6.json\") as json_zotero:\n",
    "    json_zotero_data = json.load(json_zotero)"
   ]
  },
  {
   "cell_type": "code",
   "execution_count": null,
   "id": "confused-diana",
   "metadata": {},
   "outputs": [],
   "source": [
    "json_zotero_data[77]"
   ]
  },
  {
   "cell_type": "code",
   "execution_count": null,
   "id": "hungarian-dakota",
   "metadata": {},
   "outputs": [],
   "source": [
    "12% 5"
   ]
  },
  {
   "cell_type": "code",
   "execution_count": null,
   "id": "administrative-stanford",
   "metadata": {
    "scrolled": true
   },
   "outputs": [],
   "source": [
    "my_ult_ref_dic['MAJIDBENAM_REF_142_AfGhurd']"
   ]
  },
  {
   "cell_type": "code",
   "execution_count": null,
   "id": "devoted-interval",
   "metadata": {},
   "outputs": [],
   "source": [
    "my_ult_ref_dic['MAJIDBENAM_REF_188_AfGhurd']"
   ]
  },
  {
   "cell_type": "code",
   "execution_count": null,
   "id": "white-municipality",
   "metadata": {},
   "outputs": [],
   "source": [
    "import re\n",
    "\n",
    "a_str = \"\"\"\n",
    "<sup id=\"cite_ref-1009\" class=\"reference\"><a href=\"#cite_note-1009\">[1,009]</a></sup>\n",
    "\"\"\"\n",
    "#<sup id=\"cite_ref-1009\" class=\"reference\"><a href=\"#cite_note-1009\">[1,009]</a></sup>\n",
    "\n",
    "\n",
    "RefRegex = re.compile('<sup id=\"cite_ref-(\\d{1,4})\" class=\"reference\"><a href=\"#cite_note-(\\d{1,4})\">\\[(\\d{1,4}|\\d{1},\\d{3})\\]</a></sup>')\n",
    "catches_all = RefRegex.finditer(a_str)"
   ]
  },
  {
   "cell_type": "code",
   "execution_count": null,
   "id": "distinct-desert",
   "metadata": {},
   "outputs": [],
   "source": [
    "catches_all"
   ]
  },
  {
   "cell_type": "code",
   "execution_count": null,
   "id": "southwest-winner",
   "metadata": {},
   "outputs": [],
   "source": [
    "for index, catches in enumerate(catches_all):\n",
    "    updated_catch_3 = catches.group(3).replace(\",\", \"\")\n",
    "    print(catches.group(1), catches.group(2), updated_catch_3, type(updated_catch_3))\n",
    "    new_match_regex = f'<li id=\"cite_note-{catches.group(1)}\"><span class=\"mw-cite-backlink\"><a href=\"#cite_ref-{catches.group(1)}\"><span class=\"cite-accessibility-label\">Jump up </span>↑</a></span> <span class=\"reference-text\">(.*)</span>'\n",
    "    a_new_str = f\"\"\"hthtz\n",
    "<li id=\"cite_note-1009\"><span class=\"mw-cite-backlink\"><a href=\"#cite_ref-1009\"><span class=\"cite-accessibility-label\">Jump up </span>↑</a></span> <span class=\"reference-text\">(Higham 2014b, pp. 351-352)</span>\n",
    "</li>\"\"\"\n",
    "    RefRegex = re.compile(new_match_regex)\n",
    "    catches_all_new = RefRegex.finditer(a_new_str)\n",
    "    print(a_new_str)\n",
    "    for c in catches_all_new:\n",
    "        print(c.group(1))\n",
    "    print(catches_all_new)"
   ]
  },
  {
   "cell_type": "code",
   "execution_count": null,
   "id": "brazilian-coalition",
   "metadata": {},
   "outputs": [],
   "source": [
    "a_new_str = \"\"\"\n",
    "<li id=\"cite_note-{catches.group(1)}\"><span class=\"mw-cite-backlink\"><a href=\"#cite_ref-{catches.group(1)}\"><span class=\"cite-accessibility-label\">Jump up </span>↑</a></span> <span class=\"reference-text\">Ali yaret</span></li>\n",
    "\"\"\""
   ]
  },
  {
   "cell_type": "code",
   "execution_count": null,
   "id": "desperate-melissa",
   "metadata": {},
   "outputs": [],
   "source": [
    "a_new_str = \"\"\"\n",
    "to the Heart of Islam pp.87-77\"\"\"\n",
    "pp_finderRegex = re.compile(' pp.\\s*(\\d{2})-(\\d{1,3})')\n",
    "catches_all = list(pp_finderRegex.finditer(a_new_str))"
   ]
  },
  {
   "cell_type": "code",
   "execution_count": null,
   "id": "cardiovascular-disease",
   "metadata": {},
   "outputs": [],
   "source": []
  },
  {
   "cell_type": "code",
   "execution_count": null,
   "id": "cutting-scotland",
   "metadata": {},
   "outputs": [],
   "source": [
    "for pp_c in catches_all:\n",
    "    to_be_removed = pp_c.group(1) + \"-\" + pp_c.group(2)\n",
    "    print(\"JI:\", to_be_removed)\n"
   ]
  },
  {
   "cell_type": "code",
   "execution_count": null,
   "id": "adult-router",
   "metadata": {},
   "outputs": [],
   "source": [
    "with open(\"all_english_words.txt\", \"r\") as my_file:\n",
    "    contents = my_file.readlines()"
   ]
  },
  {
   "cell_type": "code",
   "execution_count": null,
   "id": "gross-panic",
   "metadata": {},
   "outputs": [],
   "source": [
    "for word in contents:\n",
    "    word = word.lower()\n",
    "    if len(word) == 6 and \"a\" not in word and \"l\" not in word and \"e\" not in word and \"w\" in word and word[0] != \"w\" and \"h\" in word and word[1]!= \"h\":\n",
    "        print(word, end=\"\")"
   ]
  },
  {
   "cell_type": "code",
   "execution_count": null,
   "id": "constant-douglas",
   "metadata": {},
   "outputs": [],
   "source": [
    "def children_finder(raw_value_0):\n",
    "    \"\"\"\n",
    "    finds children ain asingle reference in a seshat wiki referece\n",
    "    \"\"\"\n",
    "    raw_value = raw_value_0.replace(\"&amp;\", \" \").replace(\"&nbsp;\", \" \")\n",
    "    num_part_obj = re.search('(\\d{4})', raw_value)\n",
    "    if \";\" in raw_value and (\n",
    "        \"an updated version is available online at\" not in raw_value) and (\n",
    "        \"for a brief look at the decline\" not in raw_value):\n",
    "        raw_value_split = raw_value.split(\";\")\n",
    "        pot_children_goodness = []\n",
    "        pot_good_children_list = []\n",
    "        for a_pot_child in raw_value_split:\n",
    "            num_part_obj = re.search('(\\d{4})', a_pot_child)\n",
    "            if not num_part_obj:\n",
    "                pot_children_goodness.append(False)\n",
    "            elif int(num_part_obj.group(1)) >= 2023 or int(num_part_obj.group(1)) <= 1500:\n",
    "                pot_children_goodness.append(False)\n",
    "            else:\n",
    "                pot_children_goodness.append(True)\n",
    "                pot_good_children_list.append(a_pot_child)\n",
    "        # if the solit part sounds like a good boy:\n",
    "        if len(pot_good_children_list) >= 2:\n",
    "            return pot_good_children_list\n",
    "        else:\n",
    "            return [raw_value_0,]\n",
    "    else:\n",
    "        return [raw_value_0,]"
   ]
  },
  {
   "cell_type": "code",
   "execution_count": null,
   "id": "fancy-inspiration",
   "metadata": {},
   "outputs": [],
   "source": [
    "aaaaaa = children_finder(\"ali yarte 345\")"
   ]
  },
  {
   "cell_type": "code",
   "execution_count": null,
   "id": "governmental-corner",
   "metadata": {},
   "outputs": [],
   "source": [
    "aaaaaa"
   ]
  },
  {
   "cell_type": "code",
   "execution_count": null,
   "id": "cordless-eating",
   "metadata": {},
   "outputs": [],
   "source": []
  }
 ],
 "metadata": {
  "kernelspec": {
   "display_name": "Python 3",
   "language": "python",
   "name": "python3"
  },
  "language_info": {
   "codemirror_mode": {
    "name": "ipython",
    "version": 3
   },
   "file_extension": ".py",
   "mimetype": "text/x-python",
   "name": "python",
   "nbconvert_exporter": "python",
   "pygments_lexer": "ipython3",
   "version": "3.8.10"
  }
 },
 "nbformat": 4,
 "nbformat_minor": 5
}
